{
 "cells": [
  {
   "cell_type": "code",
   "execution_count": 1,
   "id": "c6cd6928",
   "metadata": {},
   "outputs": [],
   "source": [
    "import pandas as pd\n",
    "import numpy as np"
   ]
  },
  {
   "cell_type": "code",
   "execution_count": 66,
   "id": "2ce2a839",
   "metadata": {},
   "outputs": [
    {
     "name": "stdout",
     "output_type": "stream",
     "text": [
      "101    80121\n",
      "102    48483\n",
      "103    37077\n",
      "104    30660\n",
      "105    68536\n",
      "106    52666\n",
      "107    78703\n",
      "108    51036\n",
      "109    55643\n",
      "110    56990\n",
      "111    39967\n",
      "112    93822\n",
      "113    51406\n",
      "114    93947\n",
      "115    78373\n",
      "116    62765\n",
      "117    47536\n",
      "118    40528\n",
      "119    58780\n",
      "120    83197\n",
      "dtype: int64\n"
     ]
    }
   ],
   "source": [
    "# Task 1\n",
    "price = [80121, 48483, 37077, 30660, 68536, 52666, 78703, 51036, 55643, 56990, \n",
    "         39967, 93822, 51406, 93947, 78373, 62765, 47536, 40528, 58780, 83197]\n",
    "index=list(range(101,121))\n",
    " # Creating series called car and adding values and index from list called price and index respectively \n",
    "car= pd.Series(price,index=index)\n",
    "print(car)"
   ]
  },
  {
   "cell_type": "code",
   "execution_count": 67,
   "id": "1310974f",
   "metadata": {},
   "outputs": [
    {
     "name": "stdout",
     "output_type": "stream",
     "text": [
      "car with Highest price :\n",
      "114    93947\n",
      "dtype: int64\n",
      "----------------------------------------\n",
      "car with Lowest price :\n",
      "104    30660\n",
      "dtype: int64\n"
     ]
    }
   ],
   "source": [
    "# Task 2\n",
    "print(\"car with Highest price :\")\n",
    "# getting max of car value using max function and then using that to get index and value from series\n",
    "print(car[car == car.max()])\n",
    "# for partion purpose\n",
    "print(\"----------------------------------------\")\n",
    "print(\"car with Lowest price :\")\n",
    "# getting min of car value using min function and then using that to get index and value from series\n",
    "print(car[car == car.min()])"
   ]
  },
  {
   "cell_type": "code",
   "execution_count": 68,
   "id": "bd13916f",
   "metadata": {},
   "outputs": [
    {
     "name": "stdout",
     "output_type": "stream",
     "text": [
      "114    93947\n",
      "112    93822\n",
      "120    83197\n",
      "101    80121\n",
      "107    78703\n",
      "dtype: int64\n"
     ]
    }
   ],
   "source": [
    "# Task 3\n",
    "#first using sort we are sorting series and adding head 5 to get top 5 values of the function\n",
    "print(car.sort_values(ascending=False).head(5))"
   ]
  },
  {
   "cell_type": "code",
   "execution_count": 69,
   "id": "0f7e3c93",
   "metadata": {},
   "outputs": [
    {
     "name": "stdout",
     "output_type": "stream",
     "text": [
      "103    37077\n",
      "104    30660\n",
      "111    39967\n",
      "dtype: int64\n",
      "----------------------------------------\n",
      "Count of car priced between 30k-40k are : 3\n"
     ]
    }
   ],
   "source": [
    "# Task 4\n",
    "# giving condtion between 30k to 40k to display the value and saving in another object for further use\n",
    "a=car[(car>=30000)&(car<=40000)] \n",
    "print(a)\n",
    "print(\"----------------------------------------\")\n",
    "# using size fuction to get size of a\n",
    "print(\"Count of car priced between 30k-40k are :\",a.size) "
   ]
  },
  {
   "cell_type": "code",
   "execution_count": 70,
   "id": "ede786de",
   "metadata": {},
   "outputs": [
    {
     "name": "stdout",
     "output_type": "stream",
     "text": [
      "101    80121\n",
      "105    68536\n",
      "107    78703\n",
      "112    93822\n",
      "114    93947\n",
      "115    78373\n",
      "116    62765\n",
      "120    83197\n",
      "dtype: int64\n",
      "----------------------------------------\n",
      "Count of car above average price are : 8\n"
     ]
    }
   ],
   "source": [
    "# Task 5\n",
    "# getting average value of car we are using mean function and storing in object\n",
    "avg=car.mean()\n",
    "# giving condtion that car value is greater than avg to display the value and svaing in another object for further use\n",
    "a=car[car>avg]\n",
    "print(a)\n",
    "print(\"----------------------------------------\")\n",
    "# using size fuction to get size of a\n",
    "print(\"Count of car above average price are :\",a.size)"
   ]
  },
  {
   "cell_type": "code",
   "execution_count": 71,
   "id": "702c3634",
   "metadata": {},
   "outputs": [
    {
     "name": "stdout",
     "output_type": "stream",
     "text": [
      "101    80121\n",
      "102    48483\n",
      "103    37077\n",
      "104    30660\n",
      "105    68536\n",
      "106    52666\n",
      "107    78703\n",
      "108    51036\n",
      "109    55643\n",
      "110    56990\n",
      "111    39967\n",
      "112    93822\n",
      "113    51406\n",
      "114    93947\n",
      "115    78373\n",
      "116    62765\n",
      "117    47536\n",
      "118    40528\n",
      "119    58780\n",
      "120    83197\n",
      "201    34000\n",
      "202    45000\n",
      "203    54000\n",
      "dtype: int64\n"
     ]
    }
   ],
   "source": [
    "# Task 6\n",
    "index=[201,202,203]\n",
    "value=[34000, 45000, 54000]\n",
    "#  creating new series extra and adding values into it \n",
    "extra= pd.Series(value,index=index)\n",
    "# by using concat to joining 2 series and updated into orginal series \n",
    "car=pd.concat([car,extra])\n",
    "print(car)"
   ]
  },
  {
   "cell_type": "code",
   "execution_count": 62,
   "id": "8d8d9e39",
   "metadata": {},
   "outputs": [
    {
     "name": "stdout",
     "output_type": "stream",
     "text": [
      "101    64096.8\n",
      "102    48483.0\n",
      "103    37077.0\n",
      "104    30660.0\n",
      "105    54828.8\n",
      "106    52666.0\n",
      "107    62962.4\n",
      "108    51036.0\n",
      "109    55643.0\n",
      "110    56990.0\n",
      "111    39967.0\n",
      "112    75057.6\n",
      "113    51406.0\n",
      "114    75157.6\n",
      "115    62698.4\n",
      "116    50212.0\n",
      "117    47536.0\n",
      "118    40528.0\n",
      "119    58780.0\n",
      "120    66557.6\n",
      "201    34000.0\n",
      "202    45000.0\n",
      "203    54000.0\n",
      "201    34000.0\n",
      "202    45000.0\n",
      "203    54000.0\n",
      "dtype: float64\n"
     ]
    }
   ],
   "source": [
    "# Task 7\n",
    "# giving condtion price grateer than 60k display the value and saving in another object for further use\n",
    "discount=car[car>60000]\n",
    "# doing arithmetic operation on series to give 20% dicount\n",
    "discount=discount-(discount*0.2)\n",
    "# converting series to list for index and value\n",
    "index=discount.index.tolist()\n",
    "value=discount.tolist()\n",
    "# using upadte to make changes in original series and adding values via list above\n",
    "car.update(pd.Series(value, index=index))\n",
    "print(car)"
   ]
  },
  {
   "cell_type": "code",
   "execution_count": 63,
   "id": "eb50b67a",
   "metadata": {},
   "outputs": [
    {
     "name": "stdout",
     "output_type": "stream",
     "text": [
      "102    48483.0\n",
      "103    37077.0\n",
      "104    30660.0\n",
      "106    52666.0\n",
      "108    51036.0\n",
      "109    55643.0\n",
      "110    56990.0\n",
      "111    39967.0\n",
      "113    51406.0\n",
      "117    47536.0\n",
      "118    40528.0\n",
      "119    58780.0\n",
      "201    34000.0\n",
      "202    45000.0\n",
      "203    54000.0\n",
      "201    34000.0\n",
      "202    45000.0\n",
      "203    54000.0\n",
      "dtype: float64\n"
     ]
    }
   ],
   "source": [
    "#Task 8\n",
    "# using list we created initial for index to remove valus=es from original series using drop  \n",
    "car = car.drop(labels=index)\n",
    "print(car)"
   ]
  },
  {
   "cell_type": "code",
   "execution_count": null,
   "id": "bde41dd4",
   "metadata": {},
   "outputs": [],
   "source": []
  }
 ],
 "metadata": {
  "kernelspec": {
   "display_name": "Python 3 (ipykernel)",
   "language": "python",
   "name": "python3"
  },
  "language_info": {
   "codemirror_mode": {
    "name": "ipython",
    "version": 3
   },
   "file_extension": ".py",
   "mimetype": "text/x-python",
   "name": "python",
   "nbconvert_exporter": "python",
   "pygments_lexer": "ipython3",
   "version": "3.10.9"
  }
 },
 "nbformat": 4,
 "nbformat_minor": 5
}
