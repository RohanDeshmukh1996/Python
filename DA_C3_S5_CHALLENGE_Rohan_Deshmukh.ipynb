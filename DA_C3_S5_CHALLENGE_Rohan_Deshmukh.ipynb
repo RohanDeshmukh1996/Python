{
 "cells": [
  {
   "cell_type": "code",
   "execution_count": 15,
   "id": "a64e5bd4",
   "metadata": {},
   "outputs": [
    {
     "name": "stdout",
     "output_type": "stream",
     "text": [
      "Dear John Lee ,\n",
      "Wishing you a Happy Birthday! On behalf of your Birthday and the upcoming Christmas season, we offer you a gift voucher valued $250\n",
      "\n",
      "Birthday: $100\n",
      "Christmas: $150\n",
      "\n",
      "\n",
      "\n",
      "Dear Tim Brooks ,\n",
      "Wishing you a Happy Birthday! On behalf of your Birthday and the upcoming Veterans Day, we offer you a gift voucher valued $200\n",
      "\n",
      "Birthday: $100\n",
      "Veterans Day: $100\n",
      "\n",
      "\n",
      "\n",
      "Dear Alice Cook ,\n",
      "Wishing you a Happy Birthday! On behalf of your Birthday and the upcoming Independence Day, we offer you a gift voucher valued $150\n",
      "\n",
      "Birthday: $100\n",
      "Independence Day: $50\n",
      "\n",
      "\n",
      "\n",
      "Dear Joshua John ,\n",
      "Wishing you a Happy Birthday! On behalf of your Birthday, we offer you a gift voucher valued $100\n",
      "\n",
      "\n",
      "\n",
      "Dear Alisa Matt ,\n",
      "Wishing you a Happy Birthday! On behalf of your Birthday, we offer you a gift voucher valued $100\n",
      "\n",
      "\n",
      "\n"
     ]
    }
   ],
   "source": [
    "def birtday_christmas(a):\n",
    "    print(\"Dear\",a,\",\")\n",
    "    print(\"Wishing you a Happy Birthday! On behalf of your Birthday and the upcoming Christmas season, we offer you a gift voucher valued $250\")\n",
    "    print(\"\\nBirthday: $100\")\n",
    "    print(\"Christmas: $150\")\n",
    "    print(\"\\n\\n\")\n",
    "    \n",
    "def birthday_vetrans(a):\n",
    "    print(\"Dear\",a,\",\")\n",
    "    print(\"Wishing you a Happy Birthday! On behalf of your Birthday and the upcoming Veterans Day, we offer you a gift voucher valued $200\")\n",
    "    print(\"\\nBirthday: $100\")\n",
    "    print(\"Veterans Day: $100\")\n",
    "    print(\"\\n\\n\")\n",
    "    \n",
    "def birthday_independence(a):\n",
    "    print(\"Dear\",a,\",\")\n",
    "    print(\"Wishing you a Happy Birthday! On behalf of your Birthday and the upcoming Independence Day, we offer you a gift voucher valued $150\")\n",
    "    print(\"\\nBirthday: $100\")\n",
    "    print(\"Independence Day: $50\")\n",
    "    print(\"\\n\\n\")\n",
    "    \n",
    "def birthday(a):\n",
    "    print(\"Dear\",a,\",\")\n",
    "    print(\"Wishing you a Happy Birthday! On behalf of your Birthday, we offer you a gift voucher valued $100\")\n",
    "    print(\"\\n\\n\")\n",
    "    \n",
    "    \n",
    "emp_details={\"John Lee\":\"12-12-1976\",\n",
    "             \"Tim Brooks\":\"11-04-1980\",\n",
    "             \"Alice Cook\":\"07-1-1978\",\n",
    "             \"Joshua John\":\"05-02-1991\",\n",
    "             \"Alisa Matt\":\"03-04-1990\"}\n",
    "\n",
    "for i in emp_details:\n",
    "    x=emp_details[i]\n",
    "    x=x.split(\"-\")\n",
    "    if(int(x[0])==12):\n",
    "        birtday_christmas(i)\n",
    "    elif(int(x[0])==11):\n",
    "        birthday_vetrans(i)\n",
    "    elif(int(x[0])==7):\n",
    "        birthday_independence(i)\n",
    "    else:\n",
    "        birthday(i)"
   ]
  },
  {
   "cell_type": "code",
   "execution_count": null,
   "id": "dd8d1feb",
   "metadata": {},
   "outputs": [],
   "source": []
  }
 ],
 "metadata": {
  "kernelspec": {
   "display_name": "Python 3 (ipykernel)",
   "language": "python",
   "name": "python3"
  },
  "language_info": {
   "codemirror_mode": {
    "name": "ipython",
    "version": 3
   },
   "file_extension": ".py",
   "mimetype": "text/x-python",
   "name": "python",
   "nbconvert_exporter": "python",
   "pygments_lexer": "ipython3",
   "version": "3.10.9"
  }
 },
 "nbformat": 4,
 "nbformat_minor": 5
}
