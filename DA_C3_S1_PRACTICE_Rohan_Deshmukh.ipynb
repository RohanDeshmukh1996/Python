{
 "cells": [
  {
   "cell_type": "code",
   "execution_count": 2,
   "id": "48f91b4b",
   "metadata": {
    "scrolled": true
   },
   "outputs": [
    {
     "name": "stdout",
     "output_type": "stream",
     "text": [
      "101\n",
      "2240144739696\n",
      "<class 'int'>\n"
     ]
    }
   ],
   "source": [
    "# task 1a\n",
    "rollno=101\n",
    "print(rollno)\n",
    "print(id(rollno))\n",
    "print(type(rollno))"
   ]
  },
  {
   "cell_type": "code",
   "execution_count": 3,
   "id": "b7a87acd",
   "metadata": {},
   "outputs": [
    {
     "name": "stdout",
     "output_type": "stream",
     "text": [
      "Rohan\n",
      "2240228081776\n",
      "<class 'str'>\n"
     ]
    }
   ],
   "source": [
    "# task 1b\n",
    "firstname='Rohan'\n",
    "print(firstname)\n",
    "print(id(firstname))\n",
    "print(type(firstname))"
   ]
  },
  {
   "cell_type": "code",
   "execution_count": 4,
   "id": "2055148f",
   "metadata": {},
   "outputs": [
    {
     "name": "stdout",
     "output_type": "stream",
     "text": [
      "Deshmukh\n",
      "2240228082800\n",
      "<class 'str'>\n"
     ]
    }
   ],
   "source": [
    "# task 1c\n",
    "lastname='Deshmukh'\n",
    "print(lastname)\n",
    "print(id(lastname))\n",
    "print(type(lastname))"
   ]
  },
  {
   "cell_type": "code",
   "execution_count": 5,
   "id": "1650cf64",
   "metadata": {},
   "outputs": [
    {
     "name": "stdout",
     "output_type": "stream",
     "text": [
      "50\n",
      "2240144738064\n",
      "<class 'int'>\n"
     ]
    }
   ],
   "source": [
    "# task 1c\n",
    "maxmarks=50\n",
    "print(maxmarks)\n",
    "print(id(maxmarks))\n",
    "print(type(maxmarks))"
   ]
  },
  {
   "cell_type": "code",
   "execution_count": 6,
   "id": "aa88e58b",
   "metadata": {},
   "outputs": [],
   "source": [
    "# task 2a\n",
    "var1 = 2\n",
    "# since variable starts from Character variable is created without any issue"
   ]
  },
  {
   "cell_type": "code",
   "execution_count": 7,
   "id": "a359fd33",
   "metadata": {},
   "outputs": [
    {
     "ename": "SyntaxError",
     "evalue": "invalid decimal literal (1729216075.py, line 1)",
     "output_type": "error",
     "traceback": [
      "\u001b[1;36m  Cell \u001b[1;32mIn[7], line 1\u001b[1;36m\u001b[0m\n\u001b[1;33m    2var=2\u001b[0m\n\u001b[1;37m    ^\u001b[0m\n\u001b[1;31mSyntaxError\u001b[0m\u001b[1;31m:\u001b[0m invalid decimal literal\n"
     ]
    }
   ],
   "source": [
    "# task 2b\n",
    "2var=2\n",
    "# for declaring variable we can only use character or '_'from start or else variable cannot be created \n",
    "# since we declare number is start of variable we got an error"
   ]
  },
  {
   "cell_type": "code",
   "execution_count": 8,
   "id": "2a588814",
   "metadata": {},
   "outputs": [
    {
     "ename": "SyntaxError",
     "evalue": "invalid syntax (1069141224.py, line 1)",
     "output_type": "error",
     "traceback": [
      "\u001b[1;36m  Cell \u001b[1;32mIn[8], line 1\u001b[1;36m\u001b[0m\n\u001b[1;33m    var 1 = 2\u001b[0m\n\u001b[1;37m        ^\u001b[0m\n\u001b[1;31mSyntaxError\u001b[0m\u001b[1;31m:\u001b[0m invalid syntax\n"
     ]
    }
   ],
   "source": [
    "# task 2c\n",
    "var 1 = 2\n",
    "#we cannot use decimal value to create varialble"
   ]
  },
  {
   "cell_type": "code",
   "execution_count": 9,
   "id": "846de304",
   "metadata": {},
   "outputs": [
    {
     "ename": "SyntaxError",
     "evalue": "invalid syntax (2085239645.py, line 1)",
     "output_type": "error",
     "traceback": [
      "\u001b[1;36m  Cell \u001b[1;32mIn[9], line 1\u001b[1;36m\u001b[0m\n\u001b[1;33m    var$2 = 2\u001b[0m\n\u001b[1;37m       ^\u001b[0m\n\u001b[1;31mSyntaxError\u001b[0m\u001b[1;31m:\u001b[0m invalid syntax\n"
     ]
    }
   ],
   "source": [
    "# task 2d\n",
    "var$2 = 2\n",
    "# we  cannot use anu symbol during creation of variable"
   ]
  },
  {
   "cell_type": "code",
   "execution_count": 10,
   "id": "e8460002",
   "metadata": {},
   "outputs": [],
   "source": [
    "# task 3a\n",
    "Class = 15\n",
    "# Class variable is created"
   ]
  },
  {
   "cell_type": "code",
   "execution_count": 11,
   "id": "bae513d8",
   "metadata": {},
   "outputs": [
    {
     "ename": "SyntaxError",
     "evalue": "invalid syntax (1242795455.py, line 1)",
     "output_type": "error",
     "traceback": [
      "\u001b[1;36m  Cell \u001b[1;32mIn[11], line 1\u001b[1;36m\u001b[0m\n\u001b[1;33m    class = 14\u001b[0m\n\u001b[1;37m          ^\u001b[0m\n\u001b[1;31mSyntaxError\u001b[0m\u001b[1;31m:\u001b[0m invalid syntax\n"
     ]
    }
   ],
   "source": [
    "# task 3b\n",
    "class = 14\n",
    "# since its predefined word in library we cannot replace or change it since python is case sensitive"
   ]
  },
  {
   "cell_type": "code",
   "execution_count": 12,
   "id": "226e9fcc",
   "metadata": {},
   "outputs": [],
   "source": [
    "# task 3c\n",
    "DEF = 13 \n",
    "#DEF variable is created"
   ]
  },
  {
   "cell_type": "code",
   "execution_count": 13,
   "id": "fa111491",
   "metadata": {},
   "outputs": [
    {
     "ename": "SyntaxError",
     "evalue": "invalid syntax (1759817278.py, line 1)",
     "output_type": "error",
     "traceback": [
      "\u001b[1;36m  Cell \u001b[1;32mIn[13], line 1\u001b[1;36m\u001b[0m\n\u001b[1;33m    def = 12\u001b[0m\n\u001b[1;37m        ^\u001b[0m\n\u001b[1;31mSyntaxError\u001b[0m\u001b[1;31m:\u001b[0m invalid syntax\n"
     ]
    }
   ],
   "source": [
    "# task 3d\n",
    "def = 12\n",
    "# since its predefined word in library we cannot replace or change it since python is case sensitive"
   ]
  },
  {
   "cell_type": "code",
   "execution_count": 14,
   "id": "3e42c7f6",
   "metadata": {},
   "outputs": [
    {
     "ename": "NameError",
     "evalue": "name 'TRUE' is not defined",
     "output_type": "error",
     "traceback": [
      "\u001b[1;31m---------------------------------------------------------------------------\u001b[0m",
      "\u001b[1;31mNameError\u001b[0m                                 Traceback (most recent call last)",
      "Cell \u001b[1;32mIn[14], line 1\u001b[0m\n\u001b[1;32m----> 1\u001b[0m a\u001b[38;5;241m=\u001b[39m\u001b[43mTRUE\u001b[49m\n",
      "\u001b[1;31mNameError\u001b[0m: name 'TRUE' is not defined"
     ]
    }
   ],
   "source": [
    "# task 3e\n",
    "a=TRUE\n",
    "# boolean values cannot be defined to variable"
   ]
  },
  {
   "cell_type": "code",
   "execution_count": 15,
   "id": "3c26f3c8",
   "metadata": {},
   "outputs": [
    {
     "ename": "NameError",
     "evalue": "name 'false' is not defined",
     "output_type": "error",
     "traceback": [
      "\u001b[1;31m---------------------------------------------------------------------------\u001b[0m",
      "\u001b[1;31mNameError\u001b[0m                                 Traceback (most recent call last)",
      "Cell \u001b[1;32mIn[15], line 1\u001b[0m\n\u001b[1;32m----> 1\u001b[0m b\u001b[38;5;241m=\u001b[39m\u001b[43mfalse\u001b[49m\n",
      "\u001b[1;31mNameError\u001b[0m: name 'false' is not defined"
     ]
    }
   ],
   "source": [
    "# task 3f\n",
    "b=false\n",
    "# boolean values cannot be defined to variable"
   ]
  },
  {
   "cell_type": "code",
   "execution_count": 36,
   "id": "4f6c7a5d",
   "metadata": {},
   "outputs": [
    {
     "name": "stdout",
     "output_type": "stream",
     "text": [
      "89\n",
      "2240144739312\n",
      "<class 'int'>\n"
     ]
    }
   ],
   "source": [
    "# Task 4a\n",
    "marks=89\n",
    "print(marks)\n",
    "print(id(marks))\n",
    "print(type(marks))"
   ]
  },
  {
   "cell_type": "code",
   "execution_count": 37,
   "id": "72be2fbf",
   "metadata": {},
   "outputs": [
    {
     "name": "stdout",
     "output_type": "stream",
     "text": [
      "89.55\n",
      "2240256228304\n",
      "<class 'float'>\n"
     ]
    }
   ],
   "source": [
    "# Task 4b\n",
    "marks=89.55\n",
    "print(marks)\n",
    "print(id(marks))\n",
    "print(type(marks))"
   ]
  },
  {
   "cell_type": "code",
   "execution_count": null,
   "id": "aad1235d",
   "metadata": {},
   "outputs": [],
   "source": [
    "# Task 4c\n",
    "# as we can see id' or both marks are different because id functiom returns the identity of a variable or object"
   ]
  },
  {
   "cell_type": "code",
   "execution_count": 38,
   "id": "c23369f4",
   "metadata": {},
   "outputs": [
    {
     "name": "stdout",
     "output_type": "stream",
     "text": [
      "89.55 %\n"
     ]
    }
   ],
   "source": [
    "# Task 5a \n",
    "maxmarks=100\n",
    "perc=(marks/maxmarks)*100\n",
    "print(perc,'%')"
   ]
  },
  {
   "cell_type": "code",
   "execution_count": 43,
   "id": "e8270b4d",
   "metadata": {},
   "outputs": [
    {
     "name": "stdout",
     "output_type": "stream",
     "text": [
      "Rohan Deshmukh\n"
     ]
    }
   ],
   "source": [
    "# Task 5b\n",
    "fullname=(firstname+' '+lastname)\n",
    "print(fullname)"
   ]
  },
  {
   "cell_type": "code",
   "execution_count": 42,
   "id": "48a6eec5",
   "metadata": {},
   "outputs": [
    {
     "name": "stdout",
     "output_type": "stream",
     "text": [
      "Rohan Deshmukh scored 89.55 %\n"
     ]
    }
   ],
   "source": [
    "# Task 5c\n",
    "print(fullname,'scored',perc,'%')"
   ]
  },
  {
   "cell_type": "code",
   "execution_count": 41,
   "id": "ba272275",
   "metadata": {},
   "outputs": [
    {
     "name": "stdout",
     "output_type": "stream",
     "text": [
      "{101: 'Rohan Deshmukh'}\n"
     ]
    }
   ],
   "source": [
    "# Task 6a\n",
    "disc= {rollno : fullname}\n",
    "print(disc)"
   ]
  },
  {
   "cell_type": "code",
   "execution_count": 40,
   "id": "6cd5a188",
   "metadata": {},
   "outputs": [
    {
     "name": "stdout",
     "output_type": "stream",
     "text": [
      "[101, 'Rohan Deshmukh', 89.55]\n"
     ]
    }
   ],
   "source": [
    "# Task 6b\n",
    "list=[rollno,fullname,marks]\n",
    "print(list)"
   ]
  },
  {
   "cell_type": "code",
   "execution_count": 44,
   "id": "487e7724",
   "metadata": {},
   "outputs": [
    {
     "ename": "TypeError",
     "evalue": "unsupported operand type(s) for +: 'int' and 'str'",
     "output_type": "error",
     "traceback": [
      "\u001b[1;31m---------------------------------------------------------------------------\u001b[0m",
      "\u001b[1;31mTypeError\u001b[0m                                 Traceback (most recent call last)",
      "Cell \u001b[1;32mIn[44], line 2\u001b[0m\n\u001b[0;32m      1\u001b[0m \u001b[38;5;66;03m#Task 7a\u001b[39;00m\n\u001b[1;32m----> 2\u001b[0m \u001b[38;5;28mprint\u001b[39m(\u001b[38;5;241;43m1\u001b[39;49m\u001b[38;5;241;43m+\u001b[39;49m\u001b[38;5;124;43m\"\u001b[39;49m\u001b[38;5;124;43m2\u001b[39;49m\u001b[38;5;124;43m\"\u001b[39;49m)\n",
      "\u001b[1;31mTypeError\u001b[0m: unsupported operand type(s) for +: 'int' and 'str'"
     ]
    }
   ],
   "source": [
    "#Task 7a\n",
    "print(1+\"2\")\n",
    "#integer and string cannot be added or concat"
   ]
  },
  {
   "cell_type": "code",
   "execution_count": 45,
   "id": "8ecc8e5d",
   "metadata": {},
   "outputs": [
    {
     "name": "stdout",
     "output_type": "stream",
     "text": [
      "12\n"
     ]
    }
   ],
   "source": [
    "#Task 7b\n",
    "print(\"1\"+\"2\")\n",
    "# since both values are string data gets concat"
   ]
  },
  {
   "cell_type": "code",
   "execution_count": 46,
   "id": "4724ad75",
   "metadata": {},
   "outputs": [
    {
     "data": {
      "text/plain": [
       "0.5"
      ]
     },
     "execution_count": 46,
     "metadata": {},
     "output_type": "execute_result"
    }
   ],
   "source": [
    "#Task 7c\n",
    "1/2\n",
    "#division operator is used on the decimal values"
   ]
  },
  {
   "cell_type": "code",
   "execution_count": 47,
   "id": "5bfb4c67",
   "metadata": {},
   "outputs": [
    {
     "data": {
      "text/plain": [
       "0"
      ]
     },
     "execution_count": 47,
     "metadata": {},
     "output_type": "execute_result"
    }
   ],
   "source": [
    "#Task 7d\n",
    "1//2\n",
    "#floor division (after division it will round the division value)is used on the decimal value "
   ]
  },
  {
   "cell_type": "code",
   "execution_count": 48,
   "id": "8cf30cae",
   "metadata": {},
   "outputs": [
    {
     "data": {
      "text/plain": [
       "True"
      ]
     },
     "execution_count": 48,
     "metadata": {},
     "output_type": "execute_result"
    }
   ],
   "source": [
    "# Task 8a\n",
    "True and True\n",
    "# since one value are true and operator return true"
   ]
  },
  {
   "cell_type": "code",
   "execution_count": 49,
   "id": "155a5fe7",
   "metadata": {},
   "outputs": [
    {
     "data": {
      "text/plain": [
       "False"
      ]
     },
     "execution_count": 49,
     "metadata": {},
     "output_type": "execute_result"
    }
   ],
   "source": [
    "# Task 8b\n",
    "True and False\n",
    "# since one value is false and operator return false"
   ]
  },
  {
   "cell_type": "code",
   "execution_count": 51,
   "id": "55a51e85",
   "metadata": {},
   "outputs": [
    {
     "data": {
      "text/plain": [
       "True"
      ]
     },
     "execution_count": 51,
     "metadata": {},
     "output_type": "execute_result"
    }
   ],
   "source": [
    "# Task 8c\n",
    "False or True\n",
    "# since one value is true or operator return true"
   ]
  },
  {
   "cell_type": "code",
   "execution_count": 52,
   "id": "8ed144f7",
   "metadata": {},
   "outputs": [
    {
     "data": {
      "text/plain": [
       "False"
      ]
     },
     "execution_count": 52,
     "metadata": {},
     "output_type": "execute_result"
    }
   ],
   "source": [
    "# Task 8d\n",
    "False or False\n",
    "#since both value is false or operator return false"
   ]
  },
  {
   "cell_type": "code",
   "execution_count": 53,
   "id": "943dfcb5",
   "metadata": {},
   "outputs": [
    {
     "name": "stdout",
     "output_type": "stream",
     "text": [
      "True\n"
     ]
    }
   ],
   "source": [
    "# Task 9a\n",
    "print(firstname in fullname)\n",
    "#since the fristname sequence is found in fullname so it returned true"
   ]
  },
  {
   "cell_type": "code",
   "execution_count": 54,
   "id": "6afd5317",
   "metadata": {},
   "outputs": [
    {
     "name": "stdout",
     "output_type": "stream",
     "text": [
      "False\n"
     ]
    }
   ],
   "source": [
    "# Task 9b\n",
    "print(firstname is fullname)\n",
    "# since firstname memory location is different from fullname memory location it returned false "
   ]
  },
  {
   "cell_type": "code",
   "execution_count": 55,
   "id": "6127b2b2",
   "metadata": {},
   "outputs": [],
   "source": [
    "# Task 10\n",
    "a=4\n",
    "b=3\n",
    "c=2\n",
    "d=a**b+c\n",
    "e=a**(b+c)"
   ]
  },
  {
   "cell_type": "code",
   "execution_count": 56,
   "id": "cdc0c3a8",
   "metadata": {},
   "outputs": [
    {
     "name": "stdout",
     "output_type": "stream",
     "text": [
      "66\n"
     ]
    }
   ],
   "source": [
    "# Task 10a\n",
    "print(d)"
   ]
  },
  {
   "cell_type": "code",
   "execution_count": 57,
   "id": "88852622",
   "metadata": {},
   "outputs": [
    {
     "name": "stdout",
     "output_type": "stream",
     "text": [
      "1024\n"
     ]
    }
   ],
   "source": [
    "# Task 10b\n",
    "print(e)"
   ]
  },
  {
   "cell_type": "code",
   "execution_count": null,
   "id": "67bbf310",
   "metadata": {},
   "outputs": [],
   "source": [
    "# Task 10c\n",
    "# value of e and d are different because of precedences PEMDAS i d we geta exponential b and then c is added\n",
    "# but in e we are adding b and c first because of paranthesis and then take exponential "
   ]
  }
 ],
 "metadata": {
  "kernelspec": {
   "display_name": "Python 3 (ipykernel)",
   "language": "python",
   "name": "python3"
  },
  "language_info": {
   "codemirror_mode": {
    "name": "ipython",
    "version": 3
   },
   "file_extension": ".py",
   "mimetype": "text/x-python",
   "name": "python",
   "nbconvert_exporter": "python",
   "pygments_lexer": "ipython3",
   "version": "3.10.9"
  }
 },
 "nbformat": 4,
 "nbformat_minor": 5
}
