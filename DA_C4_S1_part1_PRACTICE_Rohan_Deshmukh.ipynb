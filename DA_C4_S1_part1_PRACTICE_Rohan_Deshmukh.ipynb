{
 "cells": [
  {
   "cell_type": "code",
   "execution_count": 1,
   "id": "487e8fc3",
   "metadata": {},
   "outputs": [],
   "source": [
    "import numpy as np"
   ]
  },
  {
   "cell_type": "code",
   "execution_count": 4,
   "id": "d122189f",
   "metadata": {},
   "outputs": [
    {
     "name": "stdout",
     "output_type": "stream",
     "text": [
      "[1 2 3]\n",
      "[ 4  5  6  7  8  9 10 11 12 13 14 15 16 17 18]\n",
      "[19 20 21 22 23]\n",
      "[24 25 26 27 28 29 30]\n"
     ]
    }
   ],
   "source": [
    "# Task 1\n",
    "\n",
    "# adding data in array using arrange \n",
    "HR_dep=np.arange(1,4)  \n",
    "IT_dep=np.arange(4,19)\n",
    "Finance_dep=np.arange(19,24)\n",
    "Sales_dep=np.arange(24,31)\n",
    "\n",
    "# Displaying data from all array \n",
    "print(HR_dep)\n",
    "print(IT_dep)\n",
    "print(Finance_dep)\n",
    "print(Sales_dep)"
   ]
  },
  {
   "cell_type": "code",
   "execution_count": 12,
   "id": "eabce81d",
   "metadata": {},
   "outputs": [
    {
     "name": "stdout",
     "output_type": "stream",
     "text": [
      "[50 60 57]\n",
      "[67 67 67 67 67 67 67 67 67 67 67 67 67 67 67]\n",
      "[60 65 50 70 87]\n",
      "[50 60 65 90 56 65 71]\n"
     ]
    }
   ],
   "source": [
    "# Task 2\n",
    "# using array to add data  \n",
    "HR_dep_sal=np.array([50,60,57])\n",
    "it=[67]\n",
    "IT_dep_sal=np.array(it*15) # repeating same value 15 times\n",
    "Finance_dep_sal=np.array([60,65,50,70,87])\n",
    "Sales_dep_sal=np.array([50,60,65,90,56,65,71])\n",
    "\n",
    "#print values\n",
    "print(HR_dep_sal)\n",
    "print(IT_dep_sal)\n",
    "print(Finance_dep_sal)\n",
    "print(Sales_dep_sal)"
   ]
  },
  {
   "cell_type": "code",
   "execution_count": 15,
   "id": "bebfb5ed",
   "metadata": {},
   "outputs": [
    {
     "name": "stdout",
     "output_type": "stream",
     "text": [
      "average salary in HR_dep  55.666666666666664\n",
      "average salary in IT_dep  67.0\n",
      "average salary in Finance_dep  66.4\n",
      "average salary in Sales_dep  65.28571428571429\n",
      "-----------------------------------------\n",
      "IT_dep have highest average salary \n"
     ]
    }
   ],
   "source": [
    "# Task 3\n",
    "# average salary for each dep \n",
    "a=HR_dep_sal.mean()\n",
    "b=IT_dep_sal.mean()\n",
    "c=Finance_dep_sal.mean()\n",
    "d=Sales_dep_sal.mean()\n",
    "\n",
    "#printing average salary for all department\n",
    "print(\"average salary in HR_dep \",a)\n",
    "print(\"average salary in IT_dep \",b)\n",
    "print(\"average salary in Finance_dep \",c)\n",
    "print(\"average salary in Sales_dep \",d)\n",
    "\n",
    "# highest average salary\n",
    "e=max(a,b,c,d)\n",
    "print(\"-----------------------------------------\")\n",
    "# giving condition to find dep name\n",
    "if e==a:print(\"HR_dep have highest average salary \")\n",
    "elif e==b:print(\"IT_dep have highest average salary \")\n",
    "elif e==c:print(\"Finance_dep have highest average salary \")\n",
    "else: print(\"Sales_dep have highest average salary \")"
   ]
  },
  {
   "cell_type": "code",
   "execution_count": 16,
   "id": "27a7ccd1",
   "metadata": {},
   "outputs": [
    {
     "name": "stdout",
     "output_type": "stream",
     "text": [
      "Highest salary in HR_dep is  60\n",
      "Highest salary in Finance_dep is  87\n"
     ]
    }
   ],
   "source": [
    "# Task 4\n",
    "# using max function to find highest salaries in HR and Finance\n",
    "print(\"Highest salary in HR_dep is \",max(HR_dep_sal))\n",
    "print(\"Highest salary in Finance_dep is \",max(Finance_dep_sal))\n"
   ]
  },
  {
   "cell_type": "code",
   "execution_count": 18,
   "id": "3ec00726",
   "metadata": {},
   "outputs": [
    {
     "name": "stdout",
     "output_type": "stream",
     "text": [
      "[70 70 70 70 70 70 70 70 70 70 70 70 70 70 70]\n"
     ]
    }
   ],
   "source": [
    "# task 5\n",
    "\n",
    "# updating salaries of it department and giving them 5% bonus\n",
    "for i in range(0,len(IT_dep_sal)):\n",
    "    IT_dep_sal[i]=IT_dep_sal[i]+(IT_dep_sal[i]*0.05)\n",
    "print(IT_dep_sal)"
   ]
  }
 ],
 "metadata": {
  "kernelspec": {
   "display_name": "Python 3 (ipykernel)",
   "language": "python",
   "name": "python3"
  },
  "language_info": {
   "codemirror_mode": {
    "name": "ipython",
    "version": 3
   },
   "file_extension": ".py",
   "mimetype": "text/x-python",
   "name": "python",
   "nbconvert_exporter": "python",
   "pygments_lexer": "ipython3",
   "version": "3.10.9"
  }
 },
 "nbformat": 4,
 "nbformat_minor": 5
}
