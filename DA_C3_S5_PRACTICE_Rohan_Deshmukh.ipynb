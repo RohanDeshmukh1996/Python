{
 "cells": [
  {
   "cell_type": "code",
   "execution_count": 3,
   "id": "22f28611",
   "metadata": {},
   "outputs": [
    {
     "name": "stdout",
     "output_type": "stream",
     "text": [
      "Palindrome Checker\n",
      "Enter the word: madam\n",
      "\n",
      "Word is Palindrome\n"
     ]
    }
   ],
   "source": [
    "#Task 1\n",
    "def palindrome(n):\n",
    "    x=n\n",
    "    y=n[::-1] #reversing string\n",
    "    if (x==y): \n",
    "        print(\"\\nWord is Palindrome\")\n",
    "    else:\n",
    "        print(\"\\nWord is not Palindrome\")\n",
    "\n",
    "print(\"Palindrome Checker\")\n",
    "n=input(\"Enter the word: \")\n",
    "palindrome(n.lower())\n"
   ]
  },
  {
   "cell_type": "code",
   "execution_count": 9,
   "id": "06ab4aed",
   "metadata": {},
   "outputs": [
    {
     "name": "stdout",
     "output_type": "stream",
     "text": [
      "Enter multiple words: zebra cat ant\n",
      "['zebra', 'cat', 'ant']\n",
      "['ant', 'cat', 'zebra']\n"
     ]
    }
   ],
   "source": [
    "#Task 2\n",
    "def sort():\n",
    "    x=list(map(str,input(\"Enter multiple words: \").split()))\n",
    "    y=x.copy()\n",
    "    y.sort()\n",
    "    return x,y\n",
    "\n",
    "\n",
    "\n",
    "\n",
    "l,l1=sort()\n",
    "print(l)\n",
    "print(l1)"
   ]
  },
  {
   "cell_type": "code",
   "execution_count": 12,
   "id": "f8c51a94",
   "metadata": {},
   "outputs": [
    {
     "name": "stdout",
     "output_type": "stream",
     "text": [
      "Enter words you want to join: A L P H A\n",
      "['A', 'L', 'P', 'H', 'A'] \n",
      " ALPHA\n"
     ]
    }
   ],
   "source": [
    "#Task 3\n",
    "def joining():\n",
    "    x=list(map(str,input(\"Enter words you want to join: \").split()))\n",
    "    y=''.join(x)\n",
    "    return x,y\n",
    "a,b=joining()\n",
    "print(a,\"\\n\",b)"
   ]
  },
  {
   "cell_type": "code",
   "execution_count": 16,
   "id": "51a8819b",
   "metadata": {},
   "outputs": [
    {
     "name": "stdout",
     "output_type": "stream",
     "text": [
      "Enter any 10 numbers:\n",
      "3\n",
      "4\n",
      "1\n",
      "0\n",
      "-31\n",
      "20\n",
      "40\n",
      "8\n",
      "6\n",
      "22\n",
      "[3, 4, 1, 0, -31, 20, 40, 8, 6, 22]\n",
      "Min: -31 \n",
      "Max: 40\n"
     ]
    }
   ],
   "source": [
    "#Task 4\n",
    "def minmax():\n",
    "    x=[]\n",
    "    print(\"Enter any 10 numbers:\")\n",
    "    for i in range(10):\n",
    "        x.append(int(input()))\n",
    "    a=min(x)\n",
    "    b=max(x)\n",
    "    return a,b,x\n",
    "\n",
    "small,large,l=minmax()\n",
    "print(l)\n",
    "print(\"Min:\",small,\"\\nMax:\",large)"
   ]
  },
  {
   "cell_type": "code",
   "execution_count": 22,
   "id": "6ea4177c",
   "metadata": {},
   "outputs": [
    {
     "name": "stdout",
     "output_type": "stream",
     "text": [
      "Enter how many item you want to enter: 5\n",
      "Enter item name :item1\n",
      "Enter value:45.50\n",
      "Enter item name :item2\n",
      "Enter value:35\n",
      "Enter item name :item3\n",
      "Enter value:41.30\n",
      "Enter item name :item4\n",
      "Enter value:29\n",
      "Enter item name :item5\n",
      "Enter value:49.89\n",
      "max value : 49.89 \n",
      "min value : 29.0\n"
     ]
    }
   ],
   "source": [
    "#Task 5\n",
    "def dict1():\n",
    "    data={}\n",
    "    n=int(input(\"Enter how many item you want to enter: \"))\n",
    "    for i in range(n):\n",
    "        i=input(\"Enter item name :\")\n",
    "        q=float(input(\"Enter value:\"))\n",
    "        data[i]=q\n",
    "    return data\n",
    "def maxmin(n):\n",
    "    z=n\n",
    "    y=max(z.values())\n",
    "    x=min(z.values())\n",
    "    print(\"max value :\",y,\"\\nmin value :\",x)\n",
    "\n",
    "Dict=dict1()\n",
    "maxmin(Dict)"
   ]
  },
  {
   "cell_type": "code",
   "execution_count": 24,
   "id": "7367e8e8",
   "metadata": {},
   "outputs": [
    {
     "name": "stdout",
     "output_type": "stream",
     "text": [
      "Enter full name :John Matthew\n",
      "Enter age :40\n",
      "Enter gender :Male\n",
      "Enter occupation :HR\n",
      "\n",
      "\n",
      "Name : John Matthew\n",
      "Age : 40\n",
      "Gender : Male\n",
      "Occupation : HR\n"
     ]
    }
   ],
   "source": [
    "#Task 6\n",
    "def f1():\n",
    "    n=input(\"Enter full name :\")\n",
    "    a=int(input(\"Enter age :\"))\n",
    "    g=input(\"Enter gender :\")\n",
    "    oc=input(\"Enter occupation :\")\n",
    "    f2(n,a,g,oc)\n",
    "\n",
    "def f2(x,y,z,w):\n",
    "    print(\"\\n\\nName :\",x)    \n",
    "    print(\"Age :\",y)\n",
    "    print(\"Gender :\",z)\n",
    "    print(\"Occupation :\",w)    \n",
    "\n",
    "    \n",
    "f1()"
   ]
  },
  {
   "cell_type": "code",
   "execution_count": 23,
   "id": "f1c5ee5c",
   "metadata": {},
   "outputs": [
    {
     "name": "stdout",
     "output_type": "stream",
     "text": [
      "[('green', 1), ('blue', 2), ('yellow', 3), ('black', 4), ('red', 5)]\n"
     ]
    }
   ],
   "source": [
    "#Task 7\n",
    "def sort(x):\n",
    "    d=dict(color)\n",
    "    a=list(sorted(d.values()))\n",
    "    l=list(d.keys())\n",
    "    b={}\n",
    "    for i in range(0,len(color)):\n",
    "        for j in l:\n",
    "            if(a[i]==d.get(j)):\n",
    "                f={j:a[i]}\n",
    "        b.update(f)\n",
    "    print(list(b.items()))\n",
    "\n",
    "    \n",
    "color=[('black',4),('green',1),('red',5),('blue',2),('yellow',3)]   \n",
    "sort(color)"
   ]
  },
  {
   "cell_type": "code",
   "execution_count": 31,
   "id": "c900a622",
   "metadata": {},
   "outputs": [
    {
     "name": "stdout",
     "output_type": "stream",
     "text": [
      "['Mandy']\n"
     ]
    }
   ],
   "source": [
    "#Task 8\n",
    "a=[\"Andy\",\"Mandy\",\"Sandy\"]\n",
    "b=[\"Handy\",\"Burgandy\",\"Mandy\"]\n",
    "common=list(filter(lambda x:x in a,b))\n",
    "print(common)"
   ]
  },
  {
   "cell_type": "code",
   "execution_count": 32,
   "id": "df6516c5",
   "metadata": {},
   "outputs": [
    {
     "name": "stdout",
     "output_type": "stream",
     "text": [
      "[29, 30, 31]\n"
     ]
    }
   ],
   "source": [
    "#Task 9\n",
    "c=[12,14,14]\n",
    "d=[17,16,17]\n",
    "e=list(map(lambda x:c[x]+d[x],range(len(c))))\n",
    "print(e)"
   ]
  },
  {
   "cell_type": "code",
   "execution_count": 6,
   "id": "54e81e39",
   "metadata": {},
   "outputs": [
    {
     "name": "stdout",
     "output_type": "stream",
     "text": [
      "Enter Date of Birth: 12-25-1991\n",
      "Enter Date of Joining: 04-25-2020\n"
     ]
    },
    {
     "data": {
      "text/plain": [
       "True"
      ]
     },
     "execution_count": 6,
     "metadata": {},
     "output_type": "execute_result"
    }
   ],
   "source": [
    "#Task 10\n",
    "def check(a,b):\n",
    "    pod1=a.split(\"-\")\n",
    "    pod2=b.split(\"-\")\n",
    "    if (int(pod2[2])-int(pod1[2])>18) :\n",
    "        return True\n",
    "    else:\n",
    "        return False\n",
    "DOB=input(\"Enter Date of Birth: \")\n",
    "DOJ=input(\"Enter Date of Joining: \")\n",
    "check(DOB,DOJ)\n"
   ]
  }
 ],
 "metadata": {
  "kernelspec": {
   "display_name": "Python 3 (ipykernel)",
   "language": "python",
   "name": "python3"
  },
  "language_info": {
   "codemirror_mode": {
    "name": "ipython",
    "version": 3
   },
   "file_extension": ".py",
   "mimetype": "text/x-python",
   "name": "python",
   "nbconvert_exporter": "python",
   "pygments_lexer": "ipython3",
   "version": "3.10.9"
  }
 },
 "nbformat": 4,
 "nbformat_minor": 5
}
