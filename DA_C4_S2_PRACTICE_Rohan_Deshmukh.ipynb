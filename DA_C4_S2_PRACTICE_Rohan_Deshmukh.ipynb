{
 "cells": [
  {
   "cell_type": "code",
   "execution_count": 1,
   "id": "76fc0ba5",
   "metadata": {},
   "outputs": [],
   "source": [
    "import pandas as pd\n",
    "import numpy as np"
   ]
  },
  {
   "cell_type": "code",
   "execution_count": 2,
   "id": "7cac5b42",
   "metadata": {},
   "outputs": [
    {
     "name": "stdout",
     "output_type": "stream",
     "text": [
      "0     1001\n",
      "1     1002\n",
      "2     1003\n",
      "3     1004\n",
      "4     1005\n",
      "5     1006\n",
      "6     1007\n",
      "7     1008\n",
      "8     1009\n",
      "9     1010\n",
      "10    1011\n",
      "11    1012\n",
      "12    1013\n",
      "13    1014\n",
      "14    1015\n",
      "15    1016\n",
      "16    1017\n",
      "17    1018\n",
      "18    1019\n",
      "19    1020\n",
      "20    1021\n",
      "21    1022\n",
      "22    1023\n",
      "23    1024\n",
      "24    1025\n",
      "25    1026\n",
      "26    1027\n",
      "27    1028\n",
      "28    1029\n",
      "29    1030\n",
      "30    1031\n",
      "31    1032\n",
      "32    1033\n",
      "33    1034\n",
      "34    1035\n",
      "35    1036\n",
      "36    1037\n",
      "37    1038\n",
      "38    1039\n",
      "39    1040\n",
      "dtype: int32\n"
     ]
    }
   ],
   "source": [
    "# Task 1\n",
    "ids=np.arange(1001,1041)\n",
    "#creating range of value using numpy array metod and then storning it in series as ID\n",
    "ID= pd.Series(ids)\n",
    "print(ID)"
   ]
  },
  {
   "cell_type": "code",
   "execution_count": 3,
   "id": "146ff6a8",
   "metadata": {},
   "outputs": [
    {
     "name": "stdout",
     "output_type": "stream",
     "text": [
      "1001    35\n",
      "1002    86\n",
      "1003    63\n",
      "1004    90\n",
      "1005    50\n",
      "1006    63\n",
      "1007    15\n",
      "1008    72\n",
      "1009    15\n",
      "1010    54\n",
      "1011    72\n",
      "1012    83\n",
      "1013    58\n",
      "1014    70\n",
      "1015    92\n",
      "1016    40\n",
      "1017    59\n",
      "1018    63\n",
      "1019    53\n",
      "1020    59\n",
      "1021    55\n",
      "1022    85\n",
      "1023    18\n",
      "1024    83\n",
      "1025    67\n",
      "1026    85\n",
      "1027    46\n",
      "1028    59\n",
      "1029    77\n",
      "1030    71\n",
      "1031    77\n",
      "1032    56\n",
      "1033    79\n",
      "1034    61\n",
      "1035    82\n",
      "1036    76\n",
      "1037    60\n",
      "1038    52\n",
      "1039    88\n",
      "1040    78\n",
      "dtype: int64\n",
      "------------------------------------\n",
      "1001    85\n",
      "1002    94\n",
      "1003    63\n",
      "1004    59\n",
      "1005    76\n",
      "1006    64\n",
      "1007    87\n",
      "1008    55\n",
      "1009    51\n",
      "1010    71\n",
      "1011    54\n",
      "1012    94\n",
      "1013    33\n",
      "1014    72\n",
      "1015    75\n",
      "1016    67\n",
      "1017    85\n",
      "1018    15\n",
      "1019    50\n",
      "1020    50\n",
      "1021    19\n",
      "1022    55\n",
      "1023    59\n",
      "1024    65\n",
      "1025    76\n",
      "1026    13\n",
      "1027    57\n",
      "1028    70\n",
      "1029    51\n",
      "1030    94\n",
      "1031    55\n",
      "1032    50\n",
      "1033    71\n",
      "1034    91\n",
      "1035    75\n",
      "1036    51\n",
      "1037    90\n",
      "1038    70\n",
      "1039    87\n",
      "1040    56\n",
      "dtype: int64\n"
     ]
    }
   ],
   "source": [
    "# Task 2\n",
    "maths_marks=[35, 86, 63, 90, 50, 63, 15, 72, 15, 54, 72, 83, 58, 70, 92, 40, 59, 63, 53, 59, 55, 85, 18, 83, 67, 85, 46, 59, 77, 71, 77, 56, 79, 61, 82, 76, 60, 52, 88, 78]\n",
    "physics_marks=[85, 94, 63, 59, 76, 64, 87, 55, 51, 71, 54, 94, 33, 72, 75, 67, 85, 15, 50, 50, 19, 55, 59, 65, 76, 13, 57, 70, 51, 94, 55, 50, 71, 91, 75, 51, 90, 70, 87, 56]\n",
    "# creating 2 series and uing privious series ID as index for both and storing reapective data \n",
    "maths_marks= pd.Series(maths_marks,index=ID)\n",
    "physics_marks= pd.Series(physics_marks,index=ID)\n",
    "\n",
    "print(maths_marks)\n",
    "print(\"------------------------------------\")\n",
    "print(physics_marks)"
   ]
  },
  {
   "cell_type": "code",
   "execution_count": 4,
   "id": "28e6edfa",
   "metadata": {},
   "outputs": [
    {
     "name": "stdout",
     "output_type": "stream",
     "text": [
      "1001    120\n",
      "1002    180\n",
      "1003    126\n",
      "1004    149\n",
      "1005    126\n",
      "1006    127\n",
      "1007    102\n",
      "1008    127\n",
      "1009     66\n",
      "1010    125\n",
      "1011    126\n",
      "1012    177\n",
      "1013     91\n",
      "1014    142\n",
      "1015    167\n",
      "1016    107\n",
      "1017    144\n",
      "1018     78\n",
      "1019    103\n",
      "1020    109\n",
      "1021     74\n",
      "1022    140\n",
      "1023     77\n",
      "1024    148\n",
      "1025    143\n",
      "1026     98\n",
      "1027    103\n",
      "1028    129\n",
      "1029    128\n",
      "1030    165\n",
      "1031    132\n",
      "1032    106\n",
      "1033    150\n",
      "1034    152\n",
      "1035    157\n",
      "1036    127\n",
      "1037    150\n",
      "1038    122\n",
      "1039    175\n",
      "1040    134\n",
      "dtype: int64\n"
     ]
    }
   ],
   "source": [
    "# Task 3\n",
    "# creating new series and adding both values of series and storing in it\n",
    "sum=maths_marks+physics_marks\n",
    "print(sum)"
   ]
  },
  {
   "cell_type": "code",
   "execution_count": 9,
   "id": "cbcbd322",
   "metadata": {},
   "outputs": [
    {
     "name": "stdout",
     "output_type": "stream",
     "text": [
      "Int64Index([1001, 1002, 1003, 1004, 1005, 1006, 1008, 1010, 1011, 1012, 1014,\n",
      "            1015, 1017, 1022, 1024, 1025, 1028, 1029, 1030, 1031, 1033, 1034,\n",
      "            1035, 1036, 1037, 1038, 1039, 1040],\n",
      "           dtype='int64')\n"
     ]
    }
   ],
   "source": [
    "# Task 4\n",
    "# giving condition greater than equal to 120 to sum series for desire output\n",
    "print(sum.index[sum>=120])"
   ]
  },
  {
   "cell_type": "code",
   "execution_count": 14,
   "id": "11b4835c",
   "metadata": {},
   "outputs": [
    {
     "name": "stdout",
     "output_type": "stream",
     "text": [
      "      Round 1 quailfier\n",
      "1001                120\n",
      "1002                180\n",
      "1003                126\n",
      "1004                149\n",
      "1005                126\n",
      "1006                127\n",
      "1008                127\n",
      "1010                125\n",
      "1011                126\n",
      "1012                177\n",
      "1014                142\n",
      "1015                167\n",
      "1017                144\n",
      "1022                140\n",
      "1024                148\n",
      "1025                143\n",
      "1028                129\n",
      "1029                128\n",
      "1030                165\n",
      "1031                132\n",
      "1033                150\n",
      "1034                152\n",
      "1035                157\n",
      "1036                127\n",
      "1037                150\n",
      "1038                122\n",
      "1039                175\n",
      "1040                134\n"
     ]
    }
   ],
   "source": [
    "# Task 5\n",
    "# giving condition greater than equal to 120 to sum series and storing in object\n",
    "x=sum[sum>=120]\n",
    "# creating dataframe qs1 and storing those value in it and giving column name as Round 1 quailfier\n",
    "qs1=pd.DataFrame(x,columns=[\"Round 1 quailfier\"]) \n",
    "print(qs1)"
   ]
  },
  {
   "cell_type": "code",
   "execution_count": 17,
   "id": "a30ac754",
   "metadata": {},
   "outputs": [
    {
     "name": "stdout",
     "output_type": "stream",
     "text": [
      "      Round 2 quailfier\n",
      "1002                180\n",
      "1003                126\n",
      "1004                149\n",
      "1005                126\n",
      "1006                127\n",
      "1008                127\n",
      "1010                125\n",
      "1011                126\n",
      "1012                177\n",
      "1014                142\n",
      "1015                167\n",
      "1017                144\n",
      "1022                140\n",
      "1024                148\n",
      "1025                143\n",
      "1028                129\n",
      "1029                128\n",
      "1030                165\n",
      "1031                132\n",
      "1033                150\n",
      "1034                152\n",
      "1035                157\n",
      "1036                127\n",
      "1037                150\n",
      "1038                122\n",
      "1039                175\n",
      "1040                134\n"
     ]
    }
   ],
   "source": [
    "# Task 6\n",
    "# giving condition of marks greater than 50 and sum of marks greater than 120 and storing it in object\n",
    "x=sum[(physics_marks>=50)&(maths_marks>=50)&(sum>=120)]\n",
    "# creating dataframe qs2 and storing those value in it and giving column name as Round 2 quailfier\n",
    "qs2=pd.DataFrame(x,columns=[\"Round 2 quailfier\"]) \n",
    "print(qs2)"
   ]
  },
  {
   "cell_type": "code",
   "execution_count": 20,
   "id": "cc64ac30",
   "metadata": {},
   "outputs": [
    {
     "name": "stdout",
     "output_type": "stream",
     "text": [
      "Number of students who are qualified for round 2 are :  27\n"
     ]
    }
   ],
   "source": [
    "# Task 7\n",
    "# using size function to get how many elements are present in the dataframe\n",
    "print(\"Number of students who are qualified for round 2 are : \",qs2.size)"
   ]
  },
  {
   "cell_type": "code",
   "execution_count": null,
   "id": "7b4de43f",
   "metadata": {},
   "outputs": [],
   "source": []
  }
 ],
 "metadata": {
  "kernelspec": {
   "display_name": "Python 3 (ipykernel)",
   "language": "python",
   "name": "python3"
  },
  "language_info": {
   "codemirror_mode": {
    "name": "ipython",
    "version": 3
   },
   "file_extension": ".py",
   "mimetype": "text/x-python",
   "name": "python",
   "nbconvert_exporter": "python",
   "pygments_lexer": "ipython3",
   "version": "3.10.9"
  }
 },
 "nbformat": 4,
 "nbformat_minor": 5
}
