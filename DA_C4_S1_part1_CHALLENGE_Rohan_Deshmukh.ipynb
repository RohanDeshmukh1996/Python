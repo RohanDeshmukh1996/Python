{
 "cells": [
  {
   "cell_type": "code",
   "execution_count": 2,
   "id": "72901a9a",
   "metadata": {},
   "outputs": [],
   "source": [
    "import numpy as np\n",
    "data=np.genfromtxt('DS1_C4_S1_Employee_Data_Challenge.csv', delimiter=',', skip_header=1)"
   ]
  },
  {
   "cell_type": "code",
   "execution_count": 4,
   "id": "39c1908b",
   "metadata": {},
   "outputs": [
    {
     "name": "stdout",
     "output_type": "stream",
     "text": [
      "Average age of employee in IT firm is :  28.26\n"
     ]
    }
   ],
   "source": [
    "#Task 1\n",
    "# using mean function to get average of the value and using slicing for specidic column we want\n",
    "print(\"Average age of employee in IT firm is : \",data[:,1].mean())"
   ]
  },
  {
   "cell_type": "code",
   "execution_count": 8,
   "id": "4edfa30e",
   "metadata": {},
   "outputs": [
    {
     "name": "stdout",
     "output_type": "stream",
     "text": [
      "Total number of employee whose age is greater than 25 are : 38\n",
      "-------------------------------------------------------\n",
      "Serial no. of employee whose age is greater than 25 \n",
      "    2\n",
      "    3\n",
      "    4\n",
      "    5\n",
      "    6\n",
      "    7\n",
      "    9\n",
      "   10\n",
      "   11\n",
      "   12\n",
      "   14\n",
      "   15\n",
      "   16\n",
      "   17\n",
      "   20\n",
      "   21\n",
      "   22\n",
      "   24\n",
      "   25\n",
      "   26\n",
      "   27\n",
      "   28\n",
      "   29\n",
      "   30\n",
      "   31\n",
      "   32\n",
      "   33\n",
      "   37\n",
      "   38\n",
      "   40\n",
      "   41\n",
      "   42\n",
      "   43\n",
      "   44\n",
      "   45\n",
      "   46\n",
      "   49\n",
      "   50\n"
     ]
    }
   ],
   "source": [
    "# Task 2\n",
    "# Giving condition by where to specific column and row where value is greater than 25 to get index\n",
    "x=np.where(data[0:,1]>25)\n",
    "# using index to get values of row and column and storing it in object\n",
    "a=data[x][0:,0]\n",
    "print(\"Total number of employee whose age is greater than 25 are :\",a.size)\n",
    "print(\"-------------------------------------------------------\")\n",
    "print(\"Serial no. of employee whose age is greater than 25 \")\n",
    "for i in range(len(a)):\n",
    "    print(\"%5s\"%int(a[i]))"
   ]
  },
  {
   "cell_type": "code",
   "execution_count": 9,
   "id": "52052479",
   "metadata": {},
   "outputs": [
    {
     "name": "stdout",
     "output_type": "stream",
     "text": [
      "Total number of employee whose age is 30-35 are  10\n",
      "-------------------------------------------------------\n",
      "Employee ID of employee whose age 30-35\n",
      "    3\n",
      "   10\n",
      "   16\n",
      "   32\n",
      "   41\n",
      "   43\n",
      "   44\n",
      "   45\n",
      "   49\n",
      "   50\n"
     ]
    }
   ],
   "source": [
    "# Task 3\n",
    "# Giving condition by where to specific column and row where value is between 30 and 35 to get index\n",
    "x=np.where((data[0:,1]>=30)&(data[0:,1]<35))\n",
    "# using index to get values of row and column and storing it in object\n",
    "a=data[x][0:,0]\n",
    "print(\"Total number of employee whose age is 30-35 are \",a.size)\n",
    "print(\"-------------------------------------------------------\")\n",
    "print(\"Employee ID of employee whose age 30-35\")\n",
    "for i in range(len(a)):\n",
    "    print(\"%5s\"%int(a[i]))"
   ]
  },
  {
   "cell_type": "code",
   "execution_count": null,
   "id": "51be86cf",
   "metadata": {},
   "outputs": [],
   "source": []
  }
 ],
 "metadata": {
  "kernelspec": {
   "display_name": "Python 3 (ipykernel)",
   "language": "python",
   "name": "python3"
  },
  "language_info": {
   "codemirror_mode": {
    "name": "ipython",
    "version": 3
   },
   "file_extension": ".py",
   "mimetype": "text/x-python",
   "name": "python",
   "nbconvert_exporter": "python",
   "pygments_lexer": "ipython3",
   "version": "3.10.9"
  }
 },
 "nbformat": 4,
 "nbformat_minor": 5
}
