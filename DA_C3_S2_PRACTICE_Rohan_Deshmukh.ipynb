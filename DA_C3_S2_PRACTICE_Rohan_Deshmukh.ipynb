{
 "cells": [
  {
   "cell_type": "code",
   "execution_count": 24,
   "id": "6a180de7",
   "metadata": {},
   "outputs": [
    {
     "name": "stdout",
     "output_type": "stream",
     "text": [
      "Enter a Character: B\n",
      "MYSQL\n"
     ]
    }
   ],
   "source": [
    "#  TASK 1\n",
    "x=input(\"Enter a Character: \")\n",
    "if x==\"A\":\n",
    "    print(\"PYTHON\")\n",
    "elif x==\"B\":\n",
    "    print(\"MYSQL\")\n",
    "elif x==\"C\":\n",
    "    print(\"EXECL\")\n",
    "else:\n",
    "    print(\"HOLIDAY\")"
   ]
  },
  {
   "cell_type": "code",
   "execution_count": 23,
   "id": "59707b4b",
   "metadata": {},
   "outputs": [
    {
     "name": "stdout",
     "output_type": "stream",
     "text": [
      "Enter a first number: 12\n",
      "Enter a second number: 14\n",
      "Second number is largest  14\n"
     ]
    }
   ],
   "source": [
    "# TASK 2\n",
    "x=int(input(\"Enter a first number: \"))\n",
    "y=int(input(\"Enter a second number: \"))\n",
    "\n",
    "if x>y:\n",
    "    print(\"First number is largest \",x)\n",
    "else:\n",
    "    print(\"Second number is largest \",y)"
   ]
  },
  {
   "cell_type": "code",
   "execution_count": 33,
   "id": "9aff20e3",
   "metadata": {},
   "outputs": [
    {
     "name": "stdout",
     "output_type": "stream",
     "text": [
      "Enter a first number: 11000\n",
      "Gross Salary For Basic Salary of 11000 is 13200.0\n"
     ]
    }
   ],
   "source": [
    "# TASK 3\n",
    "Basic_salary=int(input(\"Enter a first number: \"))\n",
    "\n",
    "if Basic_salary<4000:Gross_salary=(Basic_salary+(10/100)*Basic_salary+(5/100)*Basic_salary)\n",
    "elif Basic_salary>4000 and Basic_salary>10000:Gross_salary=(Basic_salary+(10/100)*Basic_salary+(10/100)*Basic_salary)\n",
    "else:Gross_salary=(Basic_salary+(15/100)*Basic_salary+(15/100)*Basic_salary)\n",
    "    \n",
    "print(\"Gross Salary For Basic Salary of\",Basic_salary,\"is\",Gross_salary)"
   ]
  },
  {
   "cell_type": "code",
   "execution_count": 18,
   "id": "1950309e",
   "metadata": {},
   "outputs": [
    {
     "name": "stdout",
     "output_type": "stream",
     "text": [
      "Enter a Word: left\n",
      "NO word dosent exist\n"
     ]
    }
   ],
   "source": [
    "# Task 4\n",
    "var = \"Python is an interpreted, high-level, general- purpose programming language. Its design philosophy emphasizes code readability, with its use of significant indentation. Its language constructs as well as its object-oriented approach aim to help programmers write clear, logical code for small and large-scale projects.\"\n",
    "x=input(\"Enter a Word: \")\n",
    "if (x in var)== True:\n",
    "    print(\"YES word exist\")\n",
    "else:\n",
    "    print(\"NO word dosent exist\")"
   ]
  },
  {
   "cell_type": "code",
   "execution_count": 20,
   "id": "6b6f5003",
   "metadata": {},
   "outputs": [
    {
     "name": "stdout",
     "output_type": "stream",
     "text": [
      "Enter a Letter: p\n",
      "lowercase\n"
     ]
    }
   ],
   "source": [
    "# Task 5\n",
    "x=input(\"Enter a Letter: \")\n",
    "if x==x.upper():\n",
    "    print(\"UPPERCASE\")\n",
    "else:\n",
    "    print(\"lowercase\")"
   ]
  },
  {
   "cell_type": "code",
   "execution_count": 22,
   "id": "4679553c",
   "metadata": {},
   "outputs": [
    {
     "name": "stdout",
     "output_type": "stream",
     "text": [
      "Enter a Letter: A\n",
      "Vowel\n"
     ]
    }
   ],
   "source": [
    "# Task 6\n",
    "vowel=\"aeiou\"\n",
    "x=input(\"Enter a Letter: \")\n",
    "if (x in vowel or x in vowel.upper()):\n",
    "    print(\"Vowel\")\n",
    "else:\n",
    "    print(\"Consonant\")"
   ]
  }
 ],
 "metadata": {
  "kernelspec": {
   "display_name": "Python 3 (ipykernel)",
   "language": "python",
   "name": "python3"
  },
  "language_info": {
   "codemirror_mode": {
    "name": "ipython",
    "version": 3
   },
   "file_extension": ".py",
   "mimetype": "text/x-python",
   "name": "python",
   "nbconvert_exporter": "python",
   "pygments_lexer": "ipython3",
   "version": "3.10.9"
  }
 },
 "nbformat": 4,
 "nbformat_minor": 5
}
