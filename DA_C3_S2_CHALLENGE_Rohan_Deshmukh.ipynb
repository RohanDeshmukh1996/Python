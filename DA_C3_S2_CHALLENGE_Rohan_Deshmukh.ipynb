{
 "cells": [
  {
   "cell_type": "code",
   "execution_count": 5,
   "id": "6d4c62ba",
   "metadata": {},
   "outputs": [
    {
     "name": "stdout",
     "output_type": "stream",
     "text": [
      "Enter a Character: 10\n",
      "Error\n"
     ]
    }
   ],
   "source": [
    "#Task 1\n",
    "year=int(input(\"Enter a Character: \"))\n",
    "\n",
    "if(1900<year and year<2100):\n",
    "    if (year % 400 == 0) and (year % 100 == 0):print(\"It is a leap year\",year)\n",
    "    elif (year % 4 ==0) and (year % 100 != 0): print(\"It is a leap year\",year)\n",
    "    else:print(\"It is not a leap year\")\n",
    "else:print(\"Error\")\n"
   ]
  },
  {
   "cell_type": "code",
   "execution_count": null,
   "id": "27b46af0",
   "metadata": {},
   "outputs": [],
   "source": [
    "# Task 2\n",
    "month=int(input(\"Enter a month in number: \"))\n",
    "if month>0 and month<13:\n",
    "    if month==1:print(\"January there are 31 days in a month\")\n",
    "    elseif month==2:print(\"February there are 28/29 days in a month\") \n",
    "    elseif month==3:print(\"March there are 31 days in a month\")\n",
    "    elseif month==4:print(\"April there are 30 days in a month\")\n",
    "    elseif month==5:print(\"May there are 31 days in a month\")\n",
    "    elseif month==6:print(\"June there are 30 days in a month\")\n",
    "    elseif month==7:print(\"July there are 31 days in a month\")\n",
    "    elseif month==8:print(\"August there are 31 days in a month\")\n",
    "    elseif month==9:print(\"September there are 30 days in a month\")\n",
    "    elseif month==10:print(\"October there are 31 days in a month\")\n",
    "    elseif month==11:print(\"November there are 30 days in a month\")\n",
    "    elseif month==12:print(\"December there are 31 days in a month\")\n",
    "else: print(\"Invalid month\")"
   ]
  },
  {
   "cell_type": "code",
   "execution_count": 10,
   "id": "35f48824",
   "metadata": {},
   "outputs": [
    {
     "name": "stdout",
     "output_type": "stream",
     "text": [
      "Enter a amount: 250\n",
      "Total Bill Amount is 187.5\n"
     ]
    }
   ],
   "source": [
    "# Task 3\n",
    "amount=int(input(\"Enter a amount: \"))\n",
    "\n",
    "if amount>=100 and amount<150:print(\"Total Bill Amount is\",amount-((10/100)*amount))\n",
    "elif amount>=150 and amount<250:print(\"Total Bill Amount is\",amount-((15/100)*amount))\n",
    "elif amount>=250:print(\"Total Bill Amount is\",amount-((25/100)*amount))\n",
    "else:print(\"Total Bill Amount is\",amount)"
   ]
  },
  {
   "cell_type": "code",
   "execution_count": 7,
   "id": "a7130cbd",
   "metadata": {},
   "outputs": [
    {
     "name": "stdout",
     "output_type": "stream",
     "text": [
      "Select the value from 'Rock, Paper, Scissor' as r, p, s repectively:s\n",
      "You Lose\n",
      "Rock smashes Scissors.\n"
     ]
    }
   ],
   "source": [
    "#Task 4\n",
    "import random\n",
    "\n",
    "p2=input(\"Select the value from 'Rock, Paper, Scissor' as r, p, s repectively:\")\n",
    "player2=p2.lower()\n",
    "player1=random.choice([\"r\",\"p\",\"s\"])\n",
    "\n",
    "if player1==\"r\" and player2==\"p\":\n",
    "    print(\"You Won\") \n",
    "    print(\"Paper covers Rock.\")\n",
    "elif player1==\"p\" and player2==\"s\":\n",
    "    print(\"You Won\") \n",
    "    print(\"Scissors cut Paper.\") \n",
    "elif player1==\"s\" and player2==\"r\":\n",
    "    print(\"You Won\") \n",
    "    print(\"Rock smashes Scissors.\")\n",
    "elif player2==\"r\" and player1==\"p\":\n",
    "    print(\"You Lose\") \n",
    "    print(\"Paper covers Rock.\")\n",
    "elif player2==\"p\" and player1==\"s\":\n",
    "    print(\"You Lose\")\n",
    "    print(\"Scissors cut Paper.\") \n",
    "elif player2==\"s\" and player1==\"r\":\n",
    "    print(\"You Lose\")\n",
    "    print(\"Rock smashes Scissors.\")\n",
    "else :print(\"invalid input\")\n"
   ]
  },
  {
   "cell_type": "code",
   "execution_count": null,
   "id": "d20c1b9a",
   "metadata": {},
   "outputs": [],
   "source": []
  }
 ],
 "metadata": {
  "kernelspec": {
   "display_name": "Python 3 (ipykernel)",
   "language": "python",
   "name": "python3"
  },
  "language_info": {
   "codemirror_mode": {
    "name": "ipython",
    "version": 3
   },
   "file_extension": ".py",
   "mimetype": "text/x-python",
   "name": "python",
   "nbconvert_exporter": "python",
   "pygments_lexer": "ipython3",
   "version": "3.10.9"
  }
 },
 "nbformat": 4,
 "nbformat_minor": 5
}
