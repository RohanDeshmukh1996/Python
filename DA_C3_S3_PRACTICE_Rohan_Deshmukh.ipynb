{
 "cells": [
  {
   "cell_type": "code",
   "execution_count": 1,
   "id": "5ae69094",
   "metadata": {},
   "outputs": [
    {
     "name": "stdout",
     "output_type": "stream",
     "text": [
      "False\n",
      "False\n"
     ]
    }
   ],
   "source": [
    "# TASK 1\n",
    "data=\"USA\"\n",
    "mynames=['Joe','Zoe','world','Brad','Angelina','world','Zuki','Tom','Paris','world','magic']\n",
    "\n",
    "# METHOD 1\n",
    "if data in mynames:\n",
    "    print(\"True\")\n",
    "else:\n",
    "    print(\"False\")\n",
    "    \n",
    "# METHOD 2\n",
    "c=0\n",
    "for i in mynames:\n",
    "    if data==i:\n",
    "        c+=1\n",
    "if c>0:\n",
    "    print(\"True\")\n",
    "else:\n",
    "    print(\"False\")"
   ]
  },
  {
   "cell_type": "code",
   "execution_count": 13,
   "id": "731f7992",
   "metadata": {},
   "outputs": [
    {
     "name": "stdout",
     "output_type": "stream",
     "text": [
      "COUNT 3\n"
     ]
    }
   ],
   "source": [
    "# TASK 2\n",
    "data='world'\n",
    "print(\"COUNT\",mynames.count(data))"
   ]
  },
  {
   "cell_type": "code",
   "execution_count": 15,
   "id": "a89c6def",
   "metadata": {},
   "outputs": [
    {
     "name": "stdout",
     "output_type": "stream",
     "text": [
      "number of even no. in list :  14\n",
      "number of odd no. in list :  15\n"
     ]
    }
   ],
   "source": [
    "# TASK 3\n",
    "numlist=list(range(1,30))\n",
    "even=0\n",
    "odd=0\n",
    "for a in numlist:\n",
    "    if a%2==0:\n",
    "        even+=1\n",
    "    else:\n",
    "        odd+=1\n",
    "print(\"number of even no. in list : \",even)\n",
    "print(\"number of odd no. in list : \",odd)\n"
   ]
  },
  {
   "cell_type": "code",
   "execution_count": 4,
   "id": "0833bf7b",
   "metadata": {
    "scrolled": true
   },
   "outputs": [
    {
     "name": "stdout",
     "output_type": "stream",
     "text": [
      "[2, 4, 6, 8, 10]\n"
     ]
    }
   ],
   "source": [
    "# TASK 4\n",
    "c=0\n",
    "el=[]\n",
    "for n in numlist: \n",
    "    if n % 2 == 0 and c<5:\n",
    "        el.append(n)\n",
    "        c+=1\n",
    "\n",
    "print(el)"
   ]
  },
  {
   "cell_type": "code",
   "execution_count": 5,
   "id": "1f3ef33f",
   "metadata": {},
   "outputs": [
    {
     "name": "stdout",
     "output_type": "stream",
     "text": [
      "29 27 "
     ]
    }
   ],
   "source": [
    "# TASK 5\n",
    "c=0\n",
    "for n in numlist[::-1]: \n",
    "    if n % 2 == 1 and c<2:\n",
    "        print(n,end=\" \")\n",
    "        c+=1"
   ]
  },
  {
   "cell_type": "code",
   "execution_count": 6,
   "id": "bd4d1797",
   "metadata": {},
   "outputs": [
    {
     "name": "stdout",
     "output_type": "stream",
     "text": [
      "Enter String : abc\n",
      "Enter String : def\n",
      "Enter String : ghi\n",
      "Enter String : jkl\n",
      "Enter String : mno\n",
      "Enter Number : 1\n",
      "Enter Number : 2\n",
      "Enter Number : 3\n",
      "['abc', 'def', 'ghi', 'jkl', 'mno']\n",
      "[1, 2, 3]\n"
     ]
    }
   ],
   "source": [
    "# TASK 6\n",
    "x=[]\n",
    "y=[]\n",
    "for i in range(0,5):\n",
    "    n=input(\"Enter String : \")\n",
    "    x.append(n)\n",
    "for i in range(0,3):\n",
    "    m=int(input(\"Enter Number : \"))\n",
    "    y.append(m)\n",
    "print(x)\n",
    "print(y)"
   ]
  },
  {
   "cell_type": "code",
   "execution_count": 9,
   "id": "6db75d90",
   "metadata": {},
   "outputs": [
    {
     "name": "stdout",
     "output_type": "stream",
     "text": [
      "[1, 4, 9, 16, 25, 36, 49, 64, 81, 100]\n",
      "[900, 961, 1024, 1089, 1156, 1225, 1296, 1369, 1444, 1521, 1600]\n"
     ]
    }
   ],
   "source": [
    "# TASK 7\n",
    "list_a=[]\n",
    "list_b=[]\n",
    "for i in range(1,11):\n",
    "    list_a.append(i*i)\n",
    "for j in range(30,41):\n",
    "    list_b.append(j*j)\n",
    "\n",
    "print(list_a)\n",
    "print(list_b)"
   ]
  },
  {
   "cell_type": "code",
   "execution_count": 11,
   "id": "93f50cb3",
   "metadata": {},
   "outputs": [
    {
     "name": "stdout",
     "output_type": "stream",
     "text": [
      "enter no. for which multiplication table you want: 5\n",
      "5 * 1 = 5\n",
      "5 * 2 = 10\n",
      "5 * 3 = 15\n",
      "5 * 4 = 20\n",
      "5 * 5 = 25\n",
      "5 * 6 = 30\n",
      "5 * 7 = 35\n",
      "5 * 8 = 40\n",
      "5 * 9 = 45\n",
      "5 * 10 = 50\n"
     ]
    }
   ],
   "source": [
    "# TASK 8 \n",
    "n=int(input(\"enter no. for which multiplication table you want: \"))\n",
    "if n>=0:\n",
    "    for x in range(1,11):\n",
    "        print('{} * {} = {}'.format(n,x,n*x))\n",
    "else:\n",
    "    print(\"entered value is negative\")"
   ]
  },
  {
   "cell_type": "code",
   "execution_count": null,
   "id": "1e657693",
   "metadata": {},
   "outputs": [],
   "source": []
  }
 ],
 "metadata": {
  "kernelspec": {
   "display_name": "Python 3 (ipykernel)",
   "language": "python",
   "name": "python3"
  },
  "language_info": {
   "codemirror_mode": {
    "name": "ipython",
    "version": 3
   },
   "file_extension": ".py",
   "mimetype": "text/x-python",
   "name": "python",
   "nbconvert_exporter": "python",
   "pygments_lexer": "ipython3",
   "version": "3.10.9"
  }
 },
 "nbformat": 4,
 "nbformat_minor": 5
}
