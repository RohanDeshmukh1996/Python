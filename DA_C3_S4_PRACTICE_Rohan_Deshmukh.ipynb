{
 "cells": [
  {
   "cell_type": "code",
   "execution_count": 1,
   "id": "21e40780",
   "metadata": {},
   "outputs": [
    {
     "name": "stdout",
     "output_type": "stream",
     "text": [
      "enter the number for which you want a factorial : 5\n",
      "120\n"
     ]
    }
   ],
   "source": [
    "# Task 1\n",
    "n= int(input(\"enter the number for which you want a factorial : \"))\n",
    "fact=1\n",
    "i=1\n",
    "while i<=n:\n",
    "    fact=fact*i\n",
    "    i=i+1\n",
    "print(fact)"
   ]
  },
  {
   "cell_type": "code",
   "execution_count": 2,
   "id": "922c2d33",
   "metadata": {},
   "outputs": [
    {
     "name": "stdout",
     "output_type": "stream",
     "text": [
      "Enter a positive number: 50\n",
      "50 is not a prime number\n"
     ]
    }
   ],
   "source": [
    "# Task 2\n",
    "n = int(input(\"Enter a positive number: \"))\n",
    "if n == 1 or n == 0:# shecking for 0 or 1 input\n",
    "    prime = False #flag as prime is created\n",
    "elif n > 2:\n",
    "    for i in range(2, n): # condition for getting non-prime  for n>2\n",
    "        if (n % i) == 0:\n",
    "            prime = False\n",
    "else:\n",
    "    prime = True# condition only if n==2\n",
    "if prime:# output\n",
    "    print(n, \"is  a prime number\")\n",
    "else:\n",
    "    print(n, \"is not a prime number\")"
   ]
  },
  {
   "cell_type": "code",
   "execution_count": 3,
   "id": "ec082d89",
   "metadata": {},
   "outputs": [
    {
     "name": "stdout",
     "output_type": "stream",
     "text": [
      "enter the five digit number : 12345\n",
      "Sum of numbers from given number 12345 is 15\n"
     ]
    }
   ],
   "source": [
    "# Task 3\n",
    "no=int(input(\"enter the five digit number : \"))\n",
    "n=no\n",
    "sum=0\n",
    "if no<9999 or no>100000:# checking for five digit or not\n",
    "    print(\"Wrong input\")\n",
    "else:\n",
    "    while n!=0:\n",
    "        x=n%10 # getting last digit\n",
    "        n=int(n/10) # removing last digit\n",
    "        sum=sum+x # adding values\n",
    "    print(\"Sum of numbers from given number\",no,\"is\",sum)\n"
   ]
  },
  {
   "cell_type": "code",
   "execution_count": 4,
   "id": "8d4eefd6",
   "metadata": {},
   "outputs": [
    {
     "name": "stdout",
     "output_type": "stream",
     "text": [
      "enter how long fibonacci series you want : 7\n",
      "0 1 1 2 3 5 8 "
     ]
    }
   ],
   "source": [
    "# Task 4\n",
    "#fibonacci series\n",
    "n=int(input(\"enter how long fibonacci series you want : \"))\n",
    "n0=0\n",
    "n1=1\n",
    "x=2 # for counting\n",
    "if n==1:\n",
    "    print(n0)# printing 0\n",
    "elif n==2:\n",
    "    print(n0,end=\" \")\n",
    "    print(n1,end=\" \")# printing 0 and 1\n",
    "else:\n",
    "    print(n0,end=\" \")\n",
    "    print(n1,end=\" \")# printing 0 and 1\n",
    "    while x<n:# loop for printing series when n>2\n",
    "        temp=n0+n1\n",
    "        n0=n1\n",
    "        n1=temp\n",
    "        print(temp,end=\" \")\n",
    "        x=x+1\n"
   ]
  },
  {
   "cell_type": "code",
   "execution_count": 5,
   "id": "a31fe855",
   "metadata": {},
   "outputs": [
    {
     "name": "stdout",
     "output_type": "stream",
     "text": [
      "(1, 2, 3)\n",
      "(4, 5, 6)\n",
      "ID of t1 2320869186432\n",
      "ID of t2 2320868529024\n",
      "(1, 2, 3, 4, 5, 6)\n",
      "(4, 5, 6)\n",
      "ID of t1 after addition 2320869202560\n",
      "ID of t2 after addition 2320868529024\n"
     ]
    }
   ],
   "source": [
    "# Task 5\n",
    "t1=(1,2,3)\n",
    "t2=(4,5,6)\n",
    "print(t1)\n",
    "print(t2)\n",
    "print(\"ID of t1\",id(t1))\n",
    "print(\"ID of t2\",id(t2))\n",
    "t1=t1+t2\n",
    "print(t1)\n",
    "print(t2)\n",
    "print(\"ID of t1 after addition\",id(t1))\n",
    "print(\"ID of t2 after addition\",id(t2))\n",
    "\n",
    "\n",
    "\n",
    "\n",
    "# since we perform operation on t1 after entering data data inside the variable is updated and stored in different location\n",
    "# Thats why t2 location id didn't change no changes are done to data"
   ]
  },
  {
   "cell_type": "code",
   "execution_count": 6,
   "id": "bb3044f1",
   "metadata": {},
   "outputs": [
    {
     "name": "stdout",
     "output_type": "stream",
     "text": [
      "{33, 50, 20, 70, 40, 10, 60, 30}\n",
      "{33, 50, 20, 70, 40, 10, 60, 30}\n"
     ]
    }
   ],
   "source": [
    "# Task 6\n",
    "# using for loop\n",
    "m={10,20,30,40,50}\n",
    "n=[33,40,50,60,70]\n",
    "for i in n:\n",
    "    m.add(i)\n",
    "print(m)\n",
    "\n",
    "# Using while loop\n",
    "m={10,20,30,40,50}\n",
    "n=[33,40,50,60,70]\n",
    "i=0\n",
    "while i<len(n):\n",
    "    m.add(n[i])\n",
    "    i+=1\n",
    "print(m)\n",
    "\n",
    "# since one of the set characteristics is to contain only unique value because of that duplicate values were removed "
   ]
  },
  {
   "cell_type": "code",
   "execution_count": 7,
   "id": "89957bc4",
   "metadata": {},
   "outputs": [
    {
     "name": "stdout",
     "output_type": "stream",
     "text": [
      "Data : 2\n",
      "SQL : 4\n"
     ]
    }
   ],
   "source": [
    "# Task 7\n",
    "Data_Set={'Python':1,'Data':2,'Execl':3,'SQL':4}\n",
    "for i in Data_Set:\n",
    "    if (Data_Set[i]%2)==0:\n",
    "        print(i,':',Data_Set[i])"
   ]
  },
  {
   "cell_type": "code",
   "execution_count": 8,
   "id": "5ce4d53c",
   "metadata": {},
   "outputs": [
    {
     "name": "stdout",
     "output_type": "stream",
     "text": [
      "{1: 1, 2: 4, 3: 9, 4: 16, 5: 25, 6: 36, 7: 49, 8: 64, 9: 81, 10: 100, 11: 121, 12: 144, 13: 169, 14: 196, 15: 225}\n",
      "Enter no. in dictionary :100\n",
      "{1: 1, 2: 4, 3: 9, 4: 16, 5: 25, 6: 36, 7: 49, 8: 64, 9: 81, 10: 100, 11: 121, 12: 144, 13: 169, 14: 196, 15: 225, 100: 10000}\n"
     ]
    }
   ],
   "source": [
    "# Task 8\n",
    "D={}\n",
    "for i in range(1,16):\n",
    "    D.update({i:i*i})\n",
    "print(D)\n",
    "n=int(input('Enter no. in dictionary :' ))\n",
    "D.update({n:n*n})\n",
    "print(D)"
   ]
  },
  {
   "cell_type": "code",
   "execution_count": null,
   "id": "ecae3604",
   "metadata": {},
   "outputs": [],
   "source": []
  }
 ],
 "metadata": {
  "kernelspec": {
   "display_name": "Python 3 (ipykernel)",
   "language": "python",
   "name": "python3"
  },
  "language_info": {
   "codemirror_mode": {
    "name": "ipython",
    "version": 3
   },
   "file_extension": ".py",
   "mimetype": "text/x-python",
   "name": "python",
   "nbconvert_exporter": "python",
   "pygments_lexer": "ipython3",
   "version": "3.10.9"
  }
 },
 "nbformat": 4,
 "nbformat_minor": 5
}
