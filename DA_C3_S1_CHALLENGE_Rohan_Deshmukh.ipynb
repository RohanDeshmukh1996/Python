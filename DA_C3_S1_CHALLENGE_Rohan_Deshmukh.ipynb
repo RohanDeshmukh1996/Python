{
 "cells": [
  {
   "cell_type": "code",
   "execution_count": 26,
   "id": "1b4a2b2c",
   "metadata": {},
   "outputs": [
    {
     "name": "stdout",
     "output_type": "stream",
     "text": [
      "4  next day\n",
      "4 Next Day\n"
     ]
    }
   ],
   "source": [
    "# task 1\n",
    "NYC_time=22\n",
    "time_delay=6\n",
    "ct_FR=NYC_time+time_delay\n",
    "ct_FR1=ct_FR-24\n",
    "print(ct_FR1,\" next day\")\n",
    "\n",
    "#if ct_FR>24 :(print(ct_FR-24,\"Next Day\"))\n"
   ]
  },
  {
   "cell_type": "code",
   "execution_count": 9,
   "id": "f7e878b2",
   "metadata": {},
   "outputs": [
    {
     "name": "stdout",
     "output_type": "stream",
     "text": [
      "For getting  500  euro he need to give  9.625000000000002  so he need to pay  559.625  dollars\n"
     ]
    }
   ],
   "source": [
    "# task 2\n",
    "a=500\n",
    "E_to_D=a*1.1 # CONVERTING EURO TO DOLLAR\n",
    "servicecharge=E_to_D*(1.75/100) # GETTING SERVICE CHARGE  FOR ABOVE DOLLARS\n",
    "total=E_to_D+servicecharge # TOTAL AMOUNT NEED TO PAY TO GET 500 EURO\n",
    "print(\"For getting \",a,\" euro he need to give \",servicecharge,\" so he need to pay \",total,\" dollars\")"
   ]
  },
  {
   "cell_type": "code",
   "execution_count": 10,
   "id": "a48a45e6",
   "metadata": {},
   "outputs": [
    {
     "name": "stdout",
     "output_type": "stream",
     "text": [
      "He will reqiure  7200.0 dollar extra\n"
     ]
    }
   ],
   "source": [
    "# task 3\n",
    "b=4000\n",
    "pd_nyc=b/30 # perday in nyc\n",
    "pd_fr=pd_nyc+((20/100)*pd_nyc) # since he need 20% extra every day in france\n",
    "total1=45*pd_fr #getting 45 days worth oh=f money required \n",
    "print(\"He will reqiure \",total1,\"dollar extra\")"
   ]
  },
  {
   "cell_type": "code",
   "execution_count": 18,
   "id": "0fd9ac19",
   "metadata": {},
   "outputs": [
    {
     "name": "stdout",
     "output_type": "stream",
     "text": [
      "profit 1000.0 if he invest 20000$\n"
     ]
    }
   ],
   "source": [
    "# task 4\n",
    "invest=20000\n",
    "Yield=5/100\n",
    "profit=invest * Yield\n",
    "print(\"profit\", profit,\"if he invest 20000$\")"
   ]
  },
  {
   "cell_type": "code",
   "execution_count": 15,
   "id": "54b13b32",
   "metadata": {},
   "outputs": [
    {
     "name": "stdout",
     "output_type": "stream",
     "text": [
      "he needs to practice 7.224 miles to walk perday in NYC\n"
     ]
    }
   ],
   "source": [
    "# task 5\n",
    "km_pd=12\n",
    "m_pd=km_pd*0.602\n",
    "print(\"he needs to practice\",m_pd,\"miles to walk perday in NYC\")"
   ]
  },
  {
   "cell_type": "code",
   "execution_count": 16,
   "id": "d77cbddb",
   "metadata": {},
   "outputs": [
    {
     "name": "stdout",
     "output_type": "stream",
     "text": [
      "he need 1669.5466666666666 laps on practice track\n"
     ]
    }
   ],
   "source": [
    "# task 6\n",
    "c=3328\n",
    "lap=1.2\n",
    "km_to_m=c*0.602\n",
    "total2=km_to_m/lap\n",
    "print(\"he need\",total2,\"laps on practice track\")"
   ]
  },
  {
   "cell_type": "code",
   "execution_count": null,
   "id": "ecb4ec3d",
   "metadata": {},
   "outputs": [],
   "source": [
    "# task 7(optional)"
   ]
  },
  {
   "cell_type": "code",
   "execution_count": 17,
   "id": "f8a1208f",
   "metadata": {},
   "outputs": [
    {
     "name": "stdout",
     "output_type": "stream",
     "text": [
      "matt needs around  5.6 bottle  of juice\n"
     ]
    }
   ],
   "source": [
    "# task 8\n",
    "oz1=30\n",
    "oz_pd=10\n",
    "ml_pd=10*30\n",
    "ml_2week=14*ml_pd\n",
    "no_of_bottle=ml_2week/750\n",
    "print(\"matt needs around \",no_of_bottle,\"bottle of juice\")"
   ]
  },
  {
   "cell_type": "code",
   "execution_count": null,
   "id": "f2556d0a",
   "metadata": {},
   "outputs": [],
   "source": [
    "# task 9\n",
    "# jupyter notebook 3 different format .py, .html, .ipynb"
   ]
  }
 ],
 "metadata": {
  "kernelspec": {
   "display_name": "Python 3 (ipykernel)",
   "language": "python",
   "name": "python3"
  },
  "language_info": {
   "codemirror_mode": {
    "name": "ipython",
    "version": 3
   },
   "file_extension": ".py",
   "mimetype": "text/x-python",
   "name": "python",
   "nbconvert_exporter": "python",
   "pygments_lexer": "ipython3",
   "version": "3.10.9"
  }
 },
 "nbformat": 4,
 "nbformat_minor": 5
}
