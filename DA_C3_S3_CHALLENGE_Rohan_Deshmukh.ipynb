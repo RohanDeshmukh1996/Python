{
 "cells": [
  {
   "cell_type": "code",
   "execution_count": 1,
   "id": "0014e6d0",
   "metadata": {},
   "outputs": [
    {
     "name": "stdout",
     "output_type": "stream",
     "text": [
      "['Mark Antony', 'John Chan', 'Bret Lee', 'Jim Nick', 'Janice Ken', 'Florida Thomson', 'Lily Jason', 'Matt Antony', 'Mark Thomas', 'Kenny Peterson', 'Joe Cook', 'Alexander Thomas', 'Katy Perry', 'Alexanderia Peterson', 'Mark Antony']\n"
     ]
    }
   ],
   "source": [
    "data= [\"Mark Antony\",\"John Chan\",\"Bret Lee\",\"Jim Nick\",\"Janice Ken\",\"Florida Thomson\",\"Lily Jason\",\"Matt Antony\",\"Mark Thomas\",\n",
    "      \"Kenny Peterson\",\"Joe Cook\",\"Alexander Thomas\",\"Katy Perry\",\"Alexanderia Peterson\",\"Mark Antony\"]\n",
    "print(data)\n"
   ]
  },
  {
   "cell_type": "code",
   "execution_count": 2,
   "id": "f6f3c9ad",
   "metadata": {},
   "outputs": [
    {
     "name": "stdout",
     "output_type": "stream",
     "text": [
      "enter number of students you want to enter: 5\n",
      "Enter the name : Harvey Spectar\n",
      "Enter the name : Mike Ross\n",
      "Enter the name : Louis Litt\n",
      "Enter the name : Dona Possan\n",
      "Enter the name : Rachel Zane\n",
      "['Mark Antony', 'John Chan', 'Bret Lee', 'Jim Nick', 'Janice Ken', 'Florida Thomson', 'Lily Jason', 'Matt Antony', 'Mark Thomas', 'Kenny Peterson', 'Joe Cook', 'Alexander Thomas', 'Katy Perry', 'Alexanderia Peterson', 'Mark Antony', 'Harvey Spectar', 'Mike Ross', 'Louis Litt', 'Dona Possan', 'Rachel Zane']\n"
     ]
    }
   ],
   "source": [
    "# TASK 1\n",
    "n=int(input(\"enter number of students you want to enter: \"))\n",
    "for i in range(0,n):\n",
    "    add=input(\"Enter the name : \")\n",
    "    data.append(add)\n",
    "\n",
    "print(data)"
   ]
  },
  {
   "cell_type": "code",
   "execution_count": 3,
   "id": "7fab9986",
   "metadata": {},
   "outputs": [
    {
     "name": "stdout",
     "output_type": "stream",
     "text": [
      "['Rachel Zane', 'Dona Possan', 'Louis Litt', 'Mike Ross', 'Harvey Spectar', 'Mark Antony', 'Alexanderia Peterson', 'Katy Perry', 'Alexander Thomas', 'Joe Cook', 'Kenny Peterson', 'Mark Thomas', 'Matt Antony', 'Lily Jason', 'Florida Thomson', 'Janice Ken', 'Jim Nick', 'Bret Lee', 'John Chan', 'Mark Antony']\n"
     ]
    }
   ],
   "source": [
    "# TASK 2 \n",
    "data.reverse()\n",
    "print(data)"
   ]
  },
  {
   "cell_type": "code",
   "execution_count": 4,
   "id": "869b7dbd",
   "metadata": {},
   "outputs": [
    {
     "name": "stdout",
     "output_type": "stream",
     "text": [
      "['Mark Antony', 'John Chan', 'Bret Lee', 'Jim Nick', 'Janice Ken', 'Florida Thomson', 'Lily Jason', 'Matt Antony', 'Mark Thomas', 'Kenny Peterson', 'Joe Cook', 'Alexander Thomas', 'Katy Perry', 'Alexanderia Peterson', 'Mark Antony', 'Harvey Spectar', 'Mike Ross', 'Louis Litt', 'Dona Possan', 'Rachel Zane']\n"
     ]
    }
   ],
   "source": [
    "# TASK 3\n",
    "print(data[::-1])"
   ]
  },
  {
   "cell_type": "code",
   "execution_count": 5,
   "id": "4471408f",
   "metadata": {},
   "outputs": [
    {
     "name": "stdout",
     "output_type": "stream",
     "text": [
      "['Rachel Zane', 'Dona Possan', 'Louis Litt', 'Mike Ross', 'Harvey Spectar', 'Mark Antony', 'Alexanderia Peterson', 'Katy Perry', 'Alexander Thomas', 'Joe Cook', 'Kenny Peterson', 'Mark Thomas', 'Matt Antony', 'Lily Jason', 'Florida Thomson', 'Janice Ken', 'Jim Nick', 'Bret Lee', 'John Chan']\n"
     ]
    }
   ],
   "source": [
    "# TASK 4\n",
    "final_list=[]\n",
    "for i in data:\n",
    "    if i not in final_list:\n",
    "        final_list.append(i)\n",
    "print(final_list)"
   ]
  },
  {
   "cell_type": "code",
   "execution_count": 8,
   "id": "9703618b",
   "metadata": {},
   "outputs": [
    {
     "name": "stdout",
     "output_type": "stream",
     "text": [
      "['Alexander Thomas', 'Alexanderia Peterson', 'Bret Lee', 'Dona Possan', 'Florida Thomson', 'Harvey Spectar', 'Janice Ken', 'Jim Nick', 'Joe Cook', 'John Chan', 'Katy Perry', 'Kenny Peterson', 'Lily Jason', 'Louis Litt', 'Mark Antony', 'Mark Thomas', 'Matt Antony', 'Mike Ross', 'Rachel Zane']\n"
     ]
    }
   ],
   "source": [
    "# TASK 5\n",
    "final_list.sort()\n",
    "print(final_list)"
   ]
  },
  {
   "cell_type": "code",
   "execution_count": 14,
   "id": "9909ea03",
   "metadata": {},
   "outputs": [
    {
     "name": "stdout",
     "output_type": "stream",
     "text": [
      "['Alexanderia Peterson', 'Kenny Peterson', 'Rachel Zane']\n"
     ]
    }
   ],
   "source": [
    "# TASK 6\n",
    "index=[1,11,-1]\n",
    "selected=[]\n",
    "for i in index:\n",
    "    selected.append(final_list[i])\n",
    "    \n",
    "print(selected)"
   ]
  },
  {
   "cell_type": "code",
   "execution_count": 10,
   "id": "565d0b48",
   "metadata": {},
   "outputs": [
    {
     "name": "stdout",
     "output_type": "stream",
     "text": [
      "17\n"
     ]
    }
   ],
   "source": [
    "# TASK 7\n",
    "c=0\n",
    "for q in range(556,678):\n",
    "    if q%7==0:\n",
    "        c+=1\n",
    "        \n",
    "print(c)"
   ]
  },
  {
   "cell_type": "code",
   "execution_count": 11,
   "id": "23e39675",
   "metadata": {},
   "outputs": [
    {
     "name": "stdout",
     "output_type": "stream",
     "text": [
      "Enter the no.: 2\n",
      "[1, 3, 5, 7, 9, 11, 13, 15, 17, 19, 21, 23, 25, 27, 29, 31, 33, 35, 37, 39, 41, 43, 45, 47, 49, 51, 53, 55, 57, 59]\n",
      "30\n"
     ]
    }
   ],
   "source": [
    "# TASK 8\n",
    "c=0\n",
    "i=1\n",
    "nn=[]\n",
    "n=int(input(\"Enter the no.: \"))\n",
    "while c<30:\n",
    "    if i%n!=0:\n",
    "        nn.append(i)\n",
    "        c+=1\n",
    "    i+=1\n",
    "        \n",
    "print(nn)\n",
    "print(len(nn))"
   ]
  },
  {
   "cell_type": "code",
   "execution_count": 17,
   "id": "a7581117",
   "metadata": {},
   "outputs": [
    {
     "name": "stdout",
     "output_type": "stream",
     "text": [
      "[20, 22, 20, 10, 20, 20, 20, 20, 15]\n"
     ]
    }
   ],
   "source": [
    "# TASK 9\n",
    "firstlist=[1,21,3,4,5,6,7,18,4]\n",
    "secondlist=[19,1,17,6,15,14,13,2,11]\n",
    "thirdlist=[]\n",
    "for i in range(0,len(firstlist)):\n",
    "    thirdlist.append(firstlist[i]+secondlist[i])\n",
    "\n",
    "print(thirdlist)"
   ]
  },
  {
   "cell_type": "code",
   "execution_count": null,
   "id": "75109e53",
   "metadata": {},
   "outputs": [],
   "source": []
  }
 ],
 "metadata": {
  "kernelspec": {
   "display_name": "Python 3 (ipykernel)",
   "language": "python",
   "name": "python3"
  },
  "language_info": {
   "codemirror_mode": {
    "name": "ipython",
    "version": 3
   },
   "file_extension": ".py",
   "mimetype": "text/x-python",
   "name": "python",
   "nbconvert_exporter": "python",
   "pygments_lexer": "ipython3",
   "version": "3.10.9"
  }
 },
 "nbformat": 4,
 "nbformat_minor": 5
}
